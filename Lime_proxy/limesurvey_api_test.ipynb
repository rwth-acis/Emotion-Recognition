{
 "cells": [
  {
   "cell_type": "code",
   "execution_count": 1,
   "metadata": {},
   "outputs": [],
   "source": [
    "import requests\n",
    "import json\n",
    "from uuid import uuid4\n",
    "import ast\n",
    "import base64\n",
    "import numpy as np\n",
    "import pymongo"
   ]
  },
  {
   "cell_type": "code",
   "execution_count": 17,
   "metadata": {},
   "outputs": [],
   "source": [
    "\n",
    "#URL_2 = \"https://affibot.limesurvey.net/index.php/admin/remotecontrol\"\n",
    "#API_USER_2 = \"juanstuecker\"\n",
    "#API_PASSWORD_2 = \"5rqimdSdwR6E\"\n",
    "\n",
    "\n",
    "URL = \"https://limesurvey.tech4comp.dbis.rwth-aachen.de/index.php/admin/remotecontrol\"\n",
    "API_USER = \"stuecker\"\n",
    "API_PASSWORD = \"janhw3QS4Wrr\"\n",
    "# SURVEY_ID = 294243#589811# 113484\n",
    "HEADERS = {'content-type': 'application/json'}\n",
    "SURVEY_ID = 689255\n"
   ]
  },
  {
   "cell_type": "code",
   "execution_count": 23,
   "metadata": {},
   "outputs": [],
   "source": [
    "SURVEY_IDS = {244663:\"Metabolic Integration\",375586: \"Protein Metabolism\", 733193:\"Lipolysis\", 636775:\"Glycogenolisis\", 689255:\"Glycogenisis\", 377193:\"GLycolysis\", 943331:\"Citric and Acid Cylcle\", 148633:\"ETC\"}\n",
    "# ,733193: \"Lypolysis\",636775:\"Glycogenolysis\",689255:\"Glycogenisis\",377193: \"Glycolysis\",943331: \"Citric and Acid cycle\",148633: \"ETC\"}\n"
   ]
  },
  {
   "cell_type": "code",
   "execution_count": 14,
   "metadata": {},
   "outputs": [],
   "source": [
    "participants = [\n",
    "    {\"email\": \"luisalanger@gmail.com\", \"firstname\": \"luisa\"},\n",
    "    {\"email\": \"juan.stuecker@rwth-aachen.de\", \"firstname\": \"juan\"},\n",
    "    {\"email\": \"danielastuckermtz@gmail.com\", \"firstname\": \"dany\"}, \n",
    "    {\"email\": \"juan.stucker1@gmail.com\", \"firstname\": \"juan2\"}]"
   ]
  },
  {
   "cell_type": "code",
   "execution_count": 5,
   "metadata": {},
   "outputs": [],
   "source": [
    "def set_params(method, params):\n",
    "    data = {'method': method, 'params': params, 'id': str(uuid4())}\n",
    "    return json.dumps(data)"
   ]
  },
  {
   "cell_type": "code",
   "execution_count": 6,
   "metadata": {},
   "outputs": [],
   "source": [
    "def get_session_key():\n",
    "    params = {'username': API_USER, 'password': API_PASSWORD}\n",
    "    data = set_params('get_session_key', params)\n",
    "    print(data)\n",
    "\n",
    "    request = requests.post(URL, data=data, headers=HEADERS)\n",
    "    return request.json()['result']\n"
   ]
  },
  {
   "cell_type": "code",
   "execution_count": 7,
   "metadata": {},
   "outputs": [],
   "source": [
    "def list_participants(sessionKey, survey_id, start=0, limit=1000, unused=False,\n",
    "            attributes=False, conditions=[]):\n",
    "    params = {\"sSessionKey\": sessionKey, \"iSurveyID\": survey_id, \"iStart\":start, \"iLimit\":limit, \"bUnused\": unused,\"aAttributes\":attributes, \"aConditions\":conditions}\n",
    "    data = set_params('list_participants', params)\n",
    "    print(data)\n",
    "    request = requests.post(URL, data=data, headers=HEADERS)\n",
    "    return request.json()"
   ]
  },
  {
   "cell_type": "code",
   "execution_count": 20,
   "metadata": {},
   "outputs": [],
   "source": [
    "def list_questions(sessionKey, survey_id):\n",
    "    params = {\"sSessionKey\": sessionKey, \"iSurveyID\": survey_id}\n",
    "    data = set_params('list_questions', params)\n",
    "    print(data)\n",
    "    request = requests.post(URL, data=data, headers=HEADERS)\n",
    "    return request.json()"
   ]
  },
  {
   "cell_type": "code",
   "execution_count": 21,
   "metadata": {},
   "outputs": [],
   "source": [
    "def mail_participants(sessionKey, survey_id):\n",
    "    params = {\"sSessionKey\": sessionKey, \"iSurveyID\": survey_id}\n",
    "    data = set_params('mail_registered_participants', params)\n",
    "    print(data)\n",
    "    request = requests.post(URL, data=data, headers=HEADERS)\n",
    "    return request.json()"
   ]
  },
  {
   "cell_type": "code",
   "execution_count": 9,
   "metadata": {},
   "outputs": [],
   "source": [
    "def add_participants(sessionKey: str, surveyID: int, participants):\n",
    "    params = {\"sSessionKey\": sessionKey, \"iSurveyID\": surveyID, \"aParticipantData\": participants}\n",
    "    data = set_params('add_participants', params)\n",
    "    print(data)\n",
    "    request = requests.post(URL, data=data, headers=HEADERS)\n",
    "    return request.json()\n"
   ]
  },
  {
   "cell_type": "code",
   "execution_count": 10,
   "metadata": {},
   "outputs": [],
   "source": [
    "def extract_data(sessionKey: str, surveyID:int, documentType:str):\n",
    "    params = {\"sSessionKey\": sessionKey, \"iSurveyID\": surveyID, \"sDocumentType\": documentType}\n",
    "    data = set_params(\"export_responses\", params)\n",
    "    print(data)\n",
    "    request = requests.post(URL, data= data, headers=HEADERS)\n",
    "    return request.json()\n",
    "\n",
    "    "
   ]
  },
  {
   "cell_type": "code",
   "execution_count": 18,
   "metadata": {},
   "outputs": [],
   "source": [
    "def get_participant_properties(sessionKey:str, surveyID:int, token:str, property:int):\n",
    "    params = {\"sSessionKey\": sessionKey, \"iSurveyID\": surveyID, \"aTokenQueryProperties\": token, \"aTokenProperties\": property}\n",
    "    data = set_params(\"get_participant_properties\", params)\n",
    "    print(data)\n",
    "    request = requests.post(URL, data = data, headers = HEADERS)\n",
    "    return request.json()"
   ]
  },
  {
   "cell_type": "code",
   "execution_count": 19,
   "metadata": {},
   "outputs": [
    {
     "name": "stdout",
     "output_type": "stream",
     "text": [
      "{\"method\": \"get_session_key\", \"params\": {\"username\": \"stuecker\", \"password\": \"janhw3QS4Wrr\"}, \"id\": \"5ea5ff01-1d02-4aaf-be15-014c156b95c3\"}\n",
      "{\"method\": \"add_participants\", \"params\": {\"sSessionKey\": \"9k~RQr037dPTxm2U0LbCDpbf0OZiZ_~n\", \"iSurveyID\": 689255, \"aParticipantData\": [{\"email\": \"luisalanger@gmail.com\", \"firstname\": \"luisa\"}, {\"email\": \"juan.stuecker@rwth-aachen.de\", \"firstname\": \"juan\"}, {\"email\": \"danielastuckermtz@gmail.com\", \"firstname\": \"dany\"}, {\"email\": \"juan.stucker1@gmail.com\", \"firstname\": \"juan2\"}]}, \"id\": \"dba6f7f0-e9b3-40c8-bc9e-38530cd2535b\"}\n"
     ]
    }
   ],
   "source": [
    "response = add_participants(get_session_key(), SURVEY_ID, participants)"
   ]
  },
  {
   "cell_type": "code",
   "execution_count": 24,
   "metadata": {},
   "outputs": [
    {
     "name": "stdout",
     "output_type": "stream",
     "text": [
      "{\"method\": \"get_session_key\", \"params\": {\"username\": \"stuecker\", \"password\": \"janhw3QS4Wrr\"}, \"id\": \"7453ee65-2f71-4854-8484-713ba0643dc0\"}\n",
      "{\"method\": \"mail_registered_participants\", \"params\": {\"sSessionKey\": \"cJ_oIqgdmUOdIu6yGsL9A6MEJx40uxh6\", \"iSurveyID\": 244663}, \"id\": \"2a069d6e-0201-4d02-b0e1-dcea0dd7ca05\"}\n",
      "{\"method\": \"get_session_key\", \"params\": {\"username\": \"stuecker\", \"password\": \"janhw3QS4Wrr\"}, \"id\": \"b27c5766-e97e-4853-bf00-9db04bf0b2fc\"}\n",
      "{\"method\": \"mail_registered_participants\", \"params\": {\"sSessionKey\": \"0AHW~GCiZgKcIjCalW6_CA0gT2SQfCF3\", \"iSurveyID\": 375586}, \"id\": \"425a2923-c1b5-402b-ab8d-b6fbc055eb78\"}\n",
      "{\"method\": \"get_session_key\", \"params\": {\"username\": \"stuecker\", \"password\": \"janhw3QS4Wrr\"}, \"id\": \"3d3a3726-f0c8-4f88-a053-ceb18cec1d8b\"}\n",
      "{\"method\": \"mail_registered_participants\", \"params\": {\"sSessionKey\": \"6Oqk~KF47dmCOBRC1nsV9lJbct2Khhnp\", \"iSurveyID\": 733193}, \"id\": \"8b78abcf-7816-449d-93e2-be50bdd8fec2\"}\n",
      "{\"method\": \"get_session_key\", \"params\": {\"username\": \"stuecker\", \"password\": \"janhw3QS4Wrr\"}, \"id\": \"54ad9e86-cbe2-4293-94f3-d5b4eb6a580e\"}\n",
      "{\"method\": \"mail_registered_participants\", \"params\": {\"sSessionKey\": \"Tei9jlEkIctt9naV7JOCuWNZjS70_qM_\", \"iSurveyID\": 636775}, \"id\": \"45dba6cf-a622-4277-9bb2-a1accb28dc4f\"}\n",
      "{\"method\": \"get_session_key\", \"params\": {\"username\": \"stuecker\", \"password\": \"janhw3QS4Wrr\"}, \"id\": \"84104bb2-8544-4044-82ea-7e51de7ad4f9\"}\n",
      "{\"method\": \"mail_registered_participants\", \"params\": {\"sSessionKey\": \"_tNnsth0h44O6ueLWqtz_4B7FcsM8qtl\", \"iSurveyID\": 689255}, \"id\": \"8289c570-f3ea-415e-bc09-755419e089da\"}\n",
      "{\"method\": \"get_session_key\", \"params\": {\"username\": \"stuecker\", \"password\": \"janhw3QS4Wrr\"}, \"id\": \"ed4ed976-853f-485e-82cb-27514ce04e40\"}\n",
      "{\"method\": \"mail_registered_participants\", \"params\": {\"sSessionKey\": \"35d4dxVk16iANbK6BrqlH2rZbU~m~eWZ\", \"iSurveyID\": 377193}, \"id\": \"a68382ff-8aab-4d60-8ab4-7999ca079d12\"}\n",
      "{\"method\": \"get_session_key\", \"params\": {\"username\": \"stuecker\", \"password\": \"janhw3QS4Wrr\"}, \"id\": \"6222b37b-4e82-40dc-a298-a22e23f4f208\"}\n",
      "{\"method\": \"mail_registered_participants\", \"params\": {\"sSessionKey\": \"fdqSK1dYH8FAdVCSrOY2N_3~AUtD~wkT\", \"iSurveyID\": 943331}, \"id\": \"92c19023-4eb0-41ad-8276-9a2a0d221b03\"}\n",
      "{\"method\": \"get_session_key\", \"params\": {\"username\": \"stuecker\", \"password\": \"janhw3QS4Wrr\"}, \"id\": \"f2efa274-294a-4e6b-90df-f2419d8b26e3\"}\n",
      "{\"method\": \"mail_registered_participants\", \"params\": {\"sSessionKey\": \"SEB~helJCwO3JO~eAD5ot2dDjPSLqPPF\", \"iSurveyID\": 148633}, \"id\": \"802da958-7b3e-48e7-8548-ef9ddc5497c0\"}\n"
     ]
    }
   ],
   "source": [
    "for i in SURVEY_IDS:\n",
    "    response = mail_participants(get_session_key(), i)"
   ]
  },
  {
   "cell_type": "code",
   "execution_count": null,
   "metadata": {},
   "outputs": [],
   "source": [
    "for i in SURVEY_IDS:\n",
    "    response = add_participants(get_session_key(), i, participants)"
   ]
  },
  {
   "cell_type": "code",
   "execution_count": 78,
   "metadata": {},
   "outputs": [
    {
     "name": "stdout",
     "output_type": "stream",
     "text": [
      "{\"method\": \"get_session_key\", \"params\": {\"username\": \"stuecker\", \"password\": \"janhw3QS4Wrr\"}, \"id\": \"53a24ea9-f126-48ba-b8c7-8e834c1941eb\"}\n",
      "{\"method\": \"list_questions\", \"params\": {\"sSessionKey\": \"C8_FmLGwlyQIqMKklUdInMTCHPFwBVRX\", \"iSurveyID\": 244663}, \"id\": \"9d16d632-36a4-4db7-b39b-85439e58f880\"}\n",
      "{\"method\": \"export_responses\", \"params\": {\"sSessionKey\": \"C8_FmLGwlyQIqMKklUdInMTCHPFwBVRX\", \"iSurveyID\": 244663, \"sDocumentType\": \"json\"}, \"id\": \"287b643e-a417-4195-9bff-b7685a51166e\"}\n"
     ]
    }
   ],
   "source": [
    "session_key = get_session_key()\n",
    "questions = list_questions(session_key, SURVEY_ID)\n",
    "num_questions = int(len(questions[\"result\"])/2)\n",
    "survey_data = extract_data(sessionKey= session_key, surveyID= SURVEY_ID, documentType= \"json\")\n",
    "survey_data_decoded = base64.b64decode(survey_data[\"result\"]) \n",
    "data_decoded = json.loads(survey_data_decoded.decode(\"utf-8\"))\n"
   ]
  },
  {
   "cell_type": "code",
   "execution_count": 79,
   "metadata": {},
   "outputs": [
    {
     "data": {
      "text/plain": [
       "{'responses': [{'4': {'id': '4',\n",
       "    'submitdate': '1980-01-01 00:00:00',\n",
       "    'lastpage': '1',\n",
       "    'startlanguage': 'en',\n",
       "    'seed': '2104118557',\n",
       "    'token': 'iBGDgzhzZ9xJzEa',\n",
       "    'Q1[SQ001]': '3',\n",
       "    'Q2[SQ001]': '4',\n",
       "    'Q3[SQ001]': '3'}},\n",
       "  {'5': {'id': '5',\n",
       "    'submitdate': '1980-01-01 00:00:00',\n",
       "    'lastpage': '1',\n",
       "    'startlanguage': 'en',\n",
       "    'seed': '309039866',\n",
       "    'token': 'EPHLrzzWtjzwhkY',\n",
       "    'Q1[SQ001]': '4',\n",
       "    'Q2[SQ001]': '3',\n",
       "    'Q3[SQ001]': '3'}},\n",
       "  {'6': {'id': '6',\n",
       "    'submitdate': None,\n",
       "    'lastpage': None,\n",
       "    'startlanguage': 'en',\n",
       "    'seed': '291973479',\n",
       "    'token': 'EPHLrzzWtjzwhkY',\n",
       "    'Q1[SQ001]': None,\n",
       "    'Q2[SQ001]': None,\n",
       "    'Q3[SQ001]': None}}]}"
      ]
     },
     "execution_count": 79,
     "metadata": {},
     "output_type": "execute_result"
    }
   ],
   "source": [
    "data_decoded"
   ]
  },
  {
   "cell_type": "code",
   "execution_count": 80,
   "metadata": {},
   "outputs": [],
   "source": [
    "responses_dict = {}\n",
    "for i in data_decoded[\"responses\"]:\n",
    "    for j in i: \n",
    "        #token of each response\n",
    "        token = i[j][\"token\"]\n",
    "        responses_dict[token] = []\n",
    "        for k in range(num_questions):\n",
    "            responses_dict[token].append([\"Q\"+str(k+1)+\"[SQ001]\",i[j][\"Q\"+str(k+1)+\"[SQ001]\"]])\n",
    "            \n",
    "\n",
    "        "
   ]
  },
  {
   "cell_type": "code",
   "execution_count": 81,
   "metadata": {},
   "outputs": [
    {
     "data": {
      "text/plain": [
       "{'iBGDgzhzZ9xJzEa': [['Q1[SQ001]', '3'],\n",
       "  ['Q2[SQ001]', '4'],\n",
       "  ['Q3[SQ001]', '3']],\n",
       " 'EPHLrzzWtjzwhkY': [['Q1[SQ001]', None],\n",
       "  ['Q2[SQ001]', None],\n",
       "  ['Q3[SQ001]', None]]}"
      ]
     },
     "execution_count": 81,
     "metadata": {},
     "output_type": "execute_result"
    }
   ],
   "source": [
    "responses_dict"
   ]
  },
  {
   "cell_type": "code",
   "execution_count": 82,
   "metadata": {},
   "outputs": [
    {
     "name": "stdout",
     "output_type": "stream",
     "text": [
      "[['iBGDgzhzZ9xJzEa', 'Q1[SQ001]', '3'], ['iBGDgzhzZ9xJzEa', 'Q2[SQ001]', '4'], ['iBGDgzhzZ9xJzEa', 'Q3[SQ001]', '3']]\n",
      "[['iBGDgzhzZ9xJzEa', 'Q1[SQ001]', '3'], ['iBGDgzhzZ9xJzEa', 'Q2[SQ001]', '4'], ['iBGDgzhzZ9xJzEa', 'Q3[SQ001]', '3'], ['EPHLrzzWtjzwhkY', 'Q1[SQ001]', '4'], ['EPHLrzzWtjzwhkY', 'Q2[SQ001]', '3'], ['EPHLrzzWtjzwhkY', 'Q3[SQ001]', '3']]\n",
      "[['iBGDgzhzZ9xJzEa', 'Q1[SQ001]', '3'], ['iBGDgzhzZ9xJzEa', 'Q2[SQ001]', '4'], ['iBGDgzhzZ9xJzEa', 'Q3[SQ001]', '3'], ['EPHLrzzWtjzwhkY', 'Q1[SQ001]', '4'], ['EPHLrzzWtjzwhkY', 'Q2[SQ001]', '3'], ['EPHLrzzWtjzwhkY', 'Q3[SQ001]', '3'], ['EPHLrzzWtjzwhkY', 'Q1[SQ001]', None], ['EPHLrzzWtjzwhkY', 'Q2[SQ001]', None], ['EPHLrzzWtjzwhkY', 'Q3[SQ001]', None]]\n"
     ]
    }
   ],
   "source": [
    "ls = []\n",
    "for i in data_decoded[\"responses\"]:\n",
    "    for j in i:\n",
    "        token = i[j][\"token\"] \n",
    "        for k in range(num_questions):\n",
    "            ls.append([token, \"Q\"+str(k+1)+\"[SQ001]\",i[j][\"Q\"+str(k+1)+\"[SQ001]\"]])\n",
    "            #print(json_data[\"responses\"][i][str(i+1)][\"Q\"+str(j+1)+\"[SQ001]\"])\n",
    "    print(ls)"
   ]
  },
  {
   "cell_type": "code",
   "execution_count": 69,
   "metadata": {},
   "outputs": [
    {
     "data": {
      "text/plain": [
       "[['iBGDgzhzZ9xJzEa', 'Q1[SQ001]', '3'],\n",
       " ['iBGDgzhzZ9xJzEa', 'Q2[SQ001]', '4'],\n",
       " ['iBGDgzhzZ9xJzEa', 'Q3[SQ001]', '3']]"
      ]
     },
     "execution_count": 69,
     "metadata": {},
     "output_type": "execute_result"
    }
   ],
   "source": [
    "ls"
   ]
  },
  {
   "cell_type": "code",
   "execution_count": 51,
   "metadata": {},
   "outputs": [
    {
     "data": {
      "text/plain": [
       "{'responses': [{'4': {'id': '4',\n",
       "    'submitdate': '1980-01-01 00:00:00',\n",
       "    'lastpage': '1',\n",
       "    'startlanguage': 'en',\n",
       "    'seed': '2104118557',\n",
       "    'token': 'iBGDgzhzZ9xJzEa',\n",
       "    'Q1[SQ001]': '3',\n",
       "    'Q2[SQ001]': '4',\n",
       "    'Q3[SQ001]': '3'}}]}"
      ]
     },
     "execution_count": 51,
     "metadata": {},
     "output_type": "execute_result"
    }
   ],
   "source": [
    "data_decoded"
   ]
  },
  {
   "cell_type": "code",
   "execution_count": 25,
   "metadata": {},
   "outputs": [],
   "source": [
    "def get_participants_token(survey_id):\n",
    "    participants = list_participants(get_session_key(), survey_id)\n",
    "    user_token = {}\n",
    "    for i in participants[\"result\"]:\n",
    "        user_token[i[\"token\"]] = i[\"participant_info\"][\"email\"]\n",
    "    return user_token"
   ]
  },
  {
   "cell_type": "code",
   "execution_count": 155,
   "metadata": {},
   "outputs": [],
   "source": [
    "# def get_survey_coeffs(token:str, surveyid:int):\n",
    "#     # get the coeffs specifically for the user?\n",
    "#     # or should I update the whole course every time? \n",
    "#     survey_data = extract_data(sessionKey= session_key, surveyID= surveyid, documentType= \"json\")\n",
    "#     survey_data_decoded = base64.b64decode(survey_data[\"result\"])\n",
    "#     json_data = json.loads(survey_data_decoded.decode(\"utf-8\"))\n",
    "#     for i in (json_data[\"responses\"]):\n",
    "#         for j in i:\n",
    "#             print(j)\n",
    "#             if i[j][\"token\"] == token:\n",
    "#                  for k in range(num_questions):\n",
    "#                      print(j[\"Q\"+str(j+1)+\"[SQ001]\"])"
   ]
  },
  {
   "cell_type": "code",
   "execution_count": 45,
   "metadata": {},
   "outputs": [],
   "source": [
    "num_questions = 3"
   ]
  },
  {
   "cell_type": "code",
   "execution_count": 36,
   "metadata": {},
   "outputs": [],
   "source": [
    "def get_survey_coeffs2(surveyid:int):\n",
    "\n",
    "    try:\n",
    "        survey_data = extract_data(sessionKey= get_session_key(), surveyID= surveyid, documentType= \"json\")\n",
    "        survey_data_decoded = base64.b64decode(survey_data[\"result\"])\n",
    "        json_data = json.loads(survey_data_decoded.decode(\"utf-8\"))\n",
    "        responses_dict = {}\n",
    "        for i in json_data[\"responses\"]:\n",
    "            for j in i: \n",
    "                #token of each response\n",
    "                token = i[j][\"token\"]\n",
    "                responses_dict[token] = []\n",
    "                for k in range(num_questions):\n",
    "                    responses_dict[token].append([\"Q\"+str(k+1)+\"[SQ001]\",i[j][\"Q\"+str(k+1)+\"[SQ001]\"]])\n",
    "                    \n",
    "    \n",
    "                    \n",
    "        return responses_dict\n",
    "    except Exception as ex:\n",
    "        print(ex)\n"
   ]
  },
  {
   "cell_type": "code",
   "execution_count": 37,
   "metadata": {},
   "outputs": [
    {
     "name": "stdout",
     "output_type": "stream",
     "text": [
      "{\"method\": \"get_session_key\", \"params\": {\"username\": \"stuecker\", \"password\": \"janhw3QS4Wrr\"}, \"id\": \"2bd82485-d3e0-443e-b0f9-61706b01a0b5\"}\n",
      "{\"method\": \"export_responses\", \"params\": {\"sSessionKey\": \"gEVdfpGBwTL6b0Lj38vS4bAAyc0FUIfn\", \"iSurveyID\": 689255, \"sDocumentType\": \"json\"}, \"id\": \"8cd65486-0984-4cf9-81f4-1ebee3c4f87a\"}\n",
      "argument should be a bytes-like object or ASCII string, not 'dict'\n"
     ]
    }
   ],
   "source": [
    "dict = get_survey_coeffs2(SURVEY_ID)"
   ]
  },
  {
   "cell_type": "code",
   "execution_count": 38,
   "metadata": {},
   "outputs": [],
   "source": [
    "dict"
   ]
  },
  {
   "cell_type": "code",
   "execution_count": 39,
   "metadata": {},
   "outputs": [],
   "source": [
    "def get_item_valence(dict, item_name):\n",
    "    # i1= [0,1,2]\n",
    "    # i2 = [3,4,5]\n",
    "    student_item = {}\n",
    "    if dict:\n",
    "        for i in dict:\n",
    "            valence = []\n",
    "            student_item[i] = {}\n",
    "            for j in range(num_questions):\n",
    "                valence.append(0)\n",
    "                # if j in i1:\n",
    "                if dict[i][j][1] != '' and dict[i][j][1] :\n",
    "                    valence[0] += int(dict[i][j][1])\n",
    "                    # student_item[i][\"Item 1\"] = valence\n",
    "                # elif j in i2:\n",
    "                #     if dict[i][j][1] != '' :\n",
    "                #         valence[1] += int(dict[i][j][1])\n",
    "            \n",
    "            student_item[i][item_name] = valence[0]\n",
    "            # student_item[i][\"2\"] = valence[1]\n",
    "        return student_item\n"
   ]
  },
  {
   "cell_type": "code",
   "execution_count": 14,
   "metadata": {},
   "outputs": [
    {
     "ename": "NameError",
     "evalue": "name 'get_item_valence' is not defined",
     "output_type": "error",
     "traceback": [
      "\u001b[1;31m---------------------------------------------------------------------------\u001b[0m",
      "\u001b[1;31mNameError\u001b[0m                                 Traceback (most recent call last)",
      "\u001b[1;32m~\\AppData\\Local\\Temp\\ipykernel_12220\\349679384.py\u001b[0m in \u001b[0;36m<module>\u001b[1;34m\u001b[0m\n\u001b[1;32m----> 1\u001b[1;33m \u001b[0mitem\u001b[0m \u001b[1;33m=\u001b[0m \u001b[0mget_item_valence\u001b[0m\u001b[1;33m(\u001b[0m\u001b[0mdict\u001b[0m\u001b[1;33m,\u001b[0m \u001b[1;34m\"Glycosis\"\u001b[0m\u001b[1;33m)\u001b[0m\u001b[1;33m\u001b[0m\u001b[1;33m\u001b[0m\u001b[0m\n\u001b[0m",
      "\u001b[1;31mNameError\u001b[0m: name 'get_item_valence' is not defined"
     ]
    }
   ],
   "source": [
    "item = get_item_valence(dict, \"Glycosis\")"
   ]
  },
  {
   "cell_type": "code",
   "execution_count": 22,
   "metadata": {},
   "outputs": [
    {
     "name": "stdout",
     "output_type": "stream",
     "text": [
      "{\"method\": \"get_session_key\", \"params\": {\"username\": \"stuecker\", \"password\": \"janhw3QS4Wrr\"}, \"id\": \"b9d9329c-7ccb-46ad-aaee-0b90057073eb\"}\n",
      "{\"method\": \"list_participants\", \"params\": {\"sSessionKey\": \"N16WrK1HmQqLIl4TeXARLzJuIFBbz7jU\", \"iSurveyID\": 244663, \"iStart\": 0, \"iLimit\": 1000, \"bUnused\": false, \"aAttributes\": false, \"aConditions\": []}, \"id\": \"e85bd4d2-aa45-4b57-b5ff-14b7a8d85a07\"}\n"
     ]
    }
   ],
   "source": [
    "participants = get_participants_token(SURVEY_ID)"
   ]
  },
  {
   "cell_type": "code",
   "execution_count": 24,
   "metadata": {},
   "outputs": [
    {
     "data": {
      "text/plain": [
       "12"
      ]
     },
     "execution_count": 24,
     "metadata": {},
     "output_type": "execute_result"
    }
   ],
   "source": [
    "len(participants)"
   ]
  },
  {
   "cell_type": "code",
   "execution_count": 28,
   "metadata": {},
   "outputs": [],
   "source": [
    "def get_keys_from_value(d, val):\n",
    "    return [k for k, v in d.items() if v == val]"
   ]
  },
  {
   "cell_type": "code",
   "execution_count": 29,
   "metadata": {},
   "outputs": [
    {
     "data": {
      "text/plain": [
       "['iBGDgzhzZ9xJzEa', 'OWUf8ZbEkzC78YU', '3EBh1pd44cInEC5']"
      ]
     },
     "execution_count": 29,
     "metadata": {},
     "output_type": "execute_result"
    }
   ],
   "source": [
    "get_keys_from_value(participants, \"juan.stuecker@rwth-aachen.de\")\n"
   ]
  },
  {
   "cell_type": "code",
   "execution_count": 29,
   "metadata": {},
   "outputs": [
    {
     "name": "stdout",
     "output_type": "stream",
     "text": [
      "244663\n",
      "375586\n",
      "733193\n",
      "636775\n",
      "689255\n",
      "377193\n",
      "943331\n",
      "148633\n"
     ]
    }
   ],
   "source": [
    "for i in SURVEY_IDS: \n",
    "    print(i)"
   ]
  },
  {
   "cell_type": "code",
   "execution_count": 48,
   "metadata": {},
   "outputs": [
    {
     "name": "stdout",
     "output_type": "stream",
     "text": [
      "{\"method\": \"get_session_key\", \"params\": {\"username\": \"stuecker\", \"password\": \"janhw3QS4Wrr\"}, \"id\": \"cf37e116-d29f-479a-9e34-9d56bb67c223\"}\n",
      "{\"method\": \"export_responses\", \"params\": {\"sSessionKey\": \"PADnMJgOhoTnX8NlMWAafMKMu7h~2xYd\", \"iSurveyID\": 244663, \"sDocumentType\": \"json\"}, \"id\": \"d6a3d1d4-b6ee-4c32-8093-3c8ddfe05243\"}\n",
      "{\"method\": \"get_session_key\", \"params\": {\"username\": \"stuecker\", \"password\": \"janhw3QS4Wrr\"}, \"id\": \"a93a2eac-5811-4f96-b3d1-4525fbf8994d\"}\n",
      "{\"method\": \"list_participants\", \"params\": {\"sSessionKey\": \"mCMeXN4AvDhHWj6J6uLbDr9K5IMO6WPX\", \"iSurveyID\": 244663, \"iStart\": 0, \"iLimit\": 1000, \"bUnused\": false, \"aAttributes\": false, \"aConditions\": []}, \"id\": \"c3a94f00-77b0-449d-8535-4c2d7122c2e0\"}\n",
      "{\"method\": \"get_session_key\", \"params\": {\"username\": \"stuecker\", \"password\": \"janhw3QS4Wrr\"}, \"id\": \"48ae6742-9541-4a45-b146-6f065d660487\"}\n",
      "{\"method\": \"export_responses\", \"params\": {\"sSessionKey\": \"LtpE8Fxj82qSXWi~KZmNNMXRQOiOeZHC\", \"iSurveyID\": 375586, \"sDocumentType\": \"json\"}, \"id\": \"4ab5966f-eb0e-44a5-acb5-7b569c31879f\"}\n",
      "{\"method\": \"get_session_key\", \"params\": {\"username\": \"stuecker\", \"password\": \"janhw3QS4Wrr\"}, \"id\": \"7cbd1cbd-9dca-493a-9021-21f680a1402d\"}\n",
      "{\"method\": \"list_participants\", \"params\": {\"sSessionKey\": \"VXDBYdNRY9l6Lq5dVV59TchyLxqpvL3I\", \"iSurveyID\": 375586, \"iStart\": 0, \"iLimit\": 1000, \"bUnused\": false, \"aAttributes\": false, \"aConditions\": []}, \"id\": \"5d2b5ef6-2ab7-4f17-9ef3-ae7dfe35adf3\"}\n",
      "{\"method\": \"get_session_key\", \"params\": {\"username\": \"stuecker\", \"password\": \"janhw3QS4Wrr\"}, \"id\": \"c9032515-2670-4be8-accc-416917b4d380\"}\n",
      "{\"method\": \"export_responses\", \"params\": {\"sSessionKey\": \"VhL1h27iN9J7EjH2Af41cNHGv8ofekvQ\", \"iSurveyID\": 733193, \"sDocumentType\": \"json\"}, \"id\": \"022364b4-85d1-453a-b021-0effe72f4ad3\"}\n",
      "argument should be a bytes-like object or ASCII string, not 'dict'\n",
      "{\"method\": \"get_session_key\", \"params\": {\"username\": \"stuecker\", \"password\": \"janhw3QS4Wrr\"}, \"id\": \"82e01688-e02e-47ca-ba8c-a46b5f5177b9\"}\n",
      "{\"method\": \"list_participants\", \"params\": {\"sSessionKey\": \"6JL14~nDccDsuSgVbD7QeiixhVjmLlyw\", \"iSurveyID\": 733193, \"iStart\": 0, \"iLimit\": 1000, \"bUnused\": false, \"aAttributes\": false, \"aConditions\": []}, \"id\": \"8b836640-a9c3-4be8-bfc1-886126d2d166\"}\n",
      "{\"method\": \"get_session_key\", \"params\": {\"username\": \"stuecker\", \"password\": \"janhw3QS4Wrr\"}, \"id\": \"65bd0c68-53e0-4f88-aca2-95d8f817d01c\"}\n",
      "{\"method\": \"export_responses\", \"params\": {\"sSessionKey\": \"rnyXfk6VKWz9g72oIK93w2rD1zKOfxfY\", \"iSurveyID\": 636775, \"sDocumentType\": \"json\"}, \"id\": \"8229efe7-a54a-4659-b7c2-b820520227e7\"}\n",
      "argument should be a bytes-like object or ASCII string, not 'dict'\n",
      "{\"method\": \"get_session_key\", \"params\": {\"username\": \"stuecker\", \"password\": \"janhw3QS4Wrr\"}, \"id\": \"c6f31138-e203-46e9-8b24-66e697eb66b4\"}\n",
      "{\"method\": \"list_participants\", \"params\": {\"sSessionKey\": \"_GqCTOjyfYwYThpe7xwY00eoJsDCFIWX\", \"iSurveyID\": 636775, \"iStart\": 0, \"iLimit\": 1000, \"bUnused\": false, \"aAttributes\": false, \"aConditions\": []}, \"id\": \"9bf3e43a-86ac-428b-b980-41c6d3c92d5f\"}\n",
      "{\"method\": \"get_session_key\", \"params\": {\"username\": \"stuecker\", \"password\": \"janhw3QS4Wrr\"}, \"id\": \"102b065a-325b-47a9-a3eb-f0244bd15ed8\"}\n",
      "{\"method\": \"export_responses\", \"params\": {\"sSessionKey\": \"8pbiEa8nF8q_SkdtmQgrzzGdDDw3fibL\", \"iSurveyID\": 689255, \"sDocumentType\": \"json\"}, \"id\": \"705d6600-1d5f-4e3c-bfbe-e8680f6de33b\"}\n",
      "argument should be a bytes-like object or ASCII string, not 'dict'\n",
      "{\"method\": \"get_session_key\", \"params\": {\"username\": \"stuecker\", \"password\": \"janhw3QS4Wrr\"}, \"id\": \"021d4d29-7538-428d-bce2-bc63f7cedfa8\"}\n",
      "{\"method\": \"list_participants\", \"params\": {\"sSessionKey\": \"wnvC9Vz1PUQ84MHahlGMijaihNHWveHM\", \"iSurveyID\": 689255, \"iStart\": 0, \"iLimit\": 1000, \"bUnused\": false, \"aAttributes\": false, \"aConditions\": []}, \"id\": \"a205606c-614a-4537-bbd2-74f0ed79a9c6\"}\n",
      "{\"method\": \"get_session_key\", \"params\": {\"username\": \"stuecker\", \"password\": \"janhw3QS4Wrr\"}, \"id\": \"c17728e3-6764-4043-a41e-ffe724aa72cf\"}\n",
      "{\"method\": \"export_responses\", \"params\": {\"sSessionKey\": \"q4McsiqYRWOGTUASVpXCjCCMC4tvPYWM\", \"iSurveyID\": 377193, \"sDocumentType\": \"json\"}, \"id\": \"6f0a3a47-b391-4692-8c3e-83865e472856\"}\n",
      "argument should be a bytes-like object or ASCII string, not 'dict'\n",
      "{\"method\": \"get_session_key\", \"params\": {\"username\": \"stuecker\", \"password\": \"janhw3QS4Wrr\"}, \"id\": \"718be5da-1ca9-41c3-9366-3c3f4001fec4\"}\n",
      "{\"method\": \"list_participants\", \"params\": {\"sSessionKey\": \"Sq_a5qRVWYpafGxjBxbwlvXAfB4e~~3J\", \"iSurveyID\": 377193, \"iStart\": 0, \"iLimit\": 1000, \"bUnused\": false, \"aAttributes\": false, \"aConditions\": []}, \"id\": \"402bba5c-aea8-4219-82ef-11bd380d09fc\"}\n",
      "{\"method\": \"get_session_key\", \"params\": {\"username\": \"stuecker\", \"password\": \"janhw3QS4Wrr\"}, \"id\": \"5e6abf79-7d2e-43b2-9aa3-d382cf0f757a\"}\n",
      "{\"method\": \"export_responses\", \"params\": {\"sSessionKey\": \"0VyOcmhfw~naDY0suzdS1EyxjqNToksx\", \"iSurveyID\": 943331, \"sDocumentType\": \"json\"}, \"id\": \"93d47216-58ea-445d-8c39-6b92a76abaa1\"}\n",
      "argument should be a bytes-like object or ASCII string, not 'dict'\n",
      "{\"method\": \"get_session_key\", \"params\": {\"username\": \"stuecker\", \"password\": \"janhw3QS4Wrr\"}, \"id\": \"4bfea6d7-532e-4d2c-85c5-2f15e5958b2c\"}\n",
      "{\"method\": \"list_participants\", \"params\": {\"sSessionKey\": \"gGioFYsTBicYdXgqSXydR2o8alRj1Kp7\", \"iSurveyID\": 943331, \"iStart\": 0, \"iLimit\": 1000, \"bUnused\": false, \"aAttributes\": false, \"aConditions\": []}, \"id\": \"ee15f572-0e46-4e6e-abd4-6a09e1a1b097\"}\n",
      "{\"method\": \"get_session_key\", \"params\": {\"username\": \"stuecker\", \"password\": \"janhw3QS4Wrr\"}, \"id\": \"90c18aa9-71b5-4dc2-ba5d-f067bbaebb91\"}\n",
      "{\"method\": \"export_responses\", \"params\": {\"sSessionKey\": \"zJwl7GZMQ6hnVOr2Veaji8EXUfcLU2cY\", \"iSurveyID\": 148633, \"sDocumentType\": \"json\"}, \"id\": \"411424d7-d298-48b1-a78c-ee4937095a0c\"}\n",
      "{\"method\": \"get_session_key\", \"params\": {\"username\": \"stuecker\", \"password\": \"janhw3QS4Wrr\"}, \"id\": \"5c21f78e-2328-46fc-916b-9ff32f308143\"}\n",
      "{\"method\": \"list_participants\", \"params\": {\"sSessionKey\": \"oA2tM7ghkt47EvOMPaLOgxm3YoH_jWGs\", \"iSurveyID\": 148633, \"iStart\": 0, \"iLimit\": 1000, \"bUnused\": false, \"aAttributes\": false, \"aConditions\": []}, \"id\": \"559156c3-0b68-4169-813a-07f2f4a438e2\"}\n"
     ]
    }
   ],
   "source": [
    "update_list = []\n",
    "\n",
    "for i in SURVEY_IDS: \n",
    "    dict =get_survey_coeffs2(i)\n",
    "    participants_tokens = get_participants_token(i)\n",
    "    items = get_item_valence(dict, SURVEY_IDS[i])\n",
    "    if items:\n",
    "        for j in items:\n",
    "            if j in participants_tokens:\n",
    "                for k in items[j]:\n",
    "                    update_list.append({\"userid\":participants_tokens[j],\"item\":str(k), \"valence\":items[j][k] })\n"
   ]
  },
  {
   "cell_type": "code",
   "execution_count": 49,
   "metadata": {},
   "outputs": [
    {
     "data": {
      "text/plain": [
       "[{'userid': 'juan.stuecker@rwth-aachen.de', 'item': 'ETC', 'valence': 4}]"
      ]
     },
     "execution_count": 49,
     "metadata": {},
     "output_type": "execute_result"
    }
   ],
   "source": [
    "update_list"
   ]
  },
  {
   "cell_type": "code",
   "execution_count": 44,
   "metadata": {},
   "outputs": [
    {
     "name": "stdout",
     "output_type": "stream",
     "text": [
      "{\"method\": \"get_session_key\", \"params\": {\"username\": \"stuecker\", \"password\": \"janhw3QS4Wrr\"}, \"id\": \"d197dd0a-2ab2-44ae-be93-38fc12bb52ad\"}\n",
      "{\"method\": \"export_responses\", \"params\": {\"sSessionKey\": \"0xAH~9YGm3RYDuFeYYVvr0od_A0JYVD~\", \"iSurveyID\": 148633, \"sDocumentType\": \"json\"}, \"id\": \"ba1121ab-ada2-4d26-b8c3-ff02c73aeb01\"}\n",
      "name 'num_questions' is not defined\n"
     ]
    }
   ],
   "source": [
    "get_survey_coeffs2(148633)"
   ]
  },
  {
   "cell_type": "code",
   "execution_count": 107,
   "metadata": {},
   "outputs": [
    {
     "name": "stdout",
     "output_type": "stream",
     "text": [
      "{\"method\": \"export_responses\", \"params\": {\"sSessionKey\": \"C8_FmLGwlyQIqMKklUdInMTCHPFwBVRX\", \"iSurveyID\": 244663, \"sDocumentType\": \"json\"}, \"id\": \"2e482de9-dac5-43ed-badf-115a4917eea2\"}\n",
      "{\"method\": \"get_session_key\", \"params\": {\"username\": \"stuecker\", \"password\": \"janhw3QS4Wrr\"}, \"id\": \"b16eef1e-6929-41aa-b32f-82eadbaa48af\"}\n",
      "{\"method\": \"list_participants\", \"params\": {\"sSessionKey\": \"yQNOZKShHFZCAncV134azACy5AlZBUlI\", \"iSurveyID\": 244663, \"iStart\": 0, \"iLimit\": 1000, \"bUnused\": false, \"aAttributes\": false, \"aConditions\": []}, \"id\": \"1295e2da-22ec-4ffe-a474-300bdbb6d6f0\"}\n"
     ]
    }
   ],
   "source": [
    "#this phew lines do the whole trick! \n",
    "dict =get_survey_coeffs2(SURVEY_ID)\n",
    "participants_tokens = get_participants_token(SURVEY_ID)\n",
    "items = get_item_valence(dict, \"Glycosis\")\n",
    "update_list = []\n",
    "for i in items:\n",
    "    if i in participants_tokens:\n",
    "        for j in items[i]:\n",
    "            update_list.append({\"userid\":participants_tokens[i],\"item\":str(j), \"valence\":items[i][j] })"
   ]
  },
  {
   "cell_type": "code",
   "execution_count": 108,
   "metadata": {},
   "outputs": [
    {
     "data": {
      "text/plain": [
       "[{'userid': 'juan.stuecker@rwth-aachen.de', 'item': 'Glycosis', 'valence': 10},\n",
       " {'userid': 'danielastuckermtz@gmail.com', 'item': 'Glycosis', 'valence': 0}]"
      ]
     },
     "execution_count": 108,
     "metadata": {},
     "output_type": "execute_result"
    }
   ],
   "source": [
    "update_list"
   ]
  },
  {
   "cell_type": "code",
   "execution_count": 74,
   "metadata": {},
   "outputs": [],
   "source": [
    "items = get_item_valence(dict)\n",
    "update_list = []\n",
    "for i in items:\n",
    "    if i in participants_tokens:\n",
    "        for j in items[i]:\n",
    "            update_list.append({\"userid\":participants_tokens[i],str(j):items[i][j] })"
   ]
  },
  {
   "cell_type": "code",
   "execution_count": 87,
   "metadata": {},
   "outputs": [],
   "source": [
    "import copy"
   ]
  },
  {
   "cell_type": "code",
   "execution_count": 88,
   "metadata": {},
   "outputs": [],
   "source": [
    "u1 = copy.deepcopy(update_list)\n",
    "u2 = update_list"
   ]
  },
  {
   "cell_type": "code",
   "execution_count": 188,
   "metadata": {},
   "outputs": [],
   "source": [
    "update_list[0][\"valence\"] = 2000"
   ]
  },
  {
   "cell_type": "code",
   "execution_count": 190,
   "metadata": {},
   "outputs": [
    {
     "data": {
      "text/plain": [
       "{'userid': 'juan.stuecker@rwth-aachen.de',\n",
       " 'item': '1',\n",
       " 'valence': 1000,\n",
       " '_id': ObjectId('623dc98fd153ac6033c59a40')}"
      ]
     },
     "execution_count": 190,
     "metadata": {},
     "output_type": "execute_result"
    }
   ],
   "source": [
    "u1[0]"
   ]
  },
  {
   "cell_type": "code",
   "execution_count": null,
   "metadata": {},
   "outputs": [],
   "source": [
    "update_again = {}"
   ]
  },
  {
   "cell_type": "code",
   "execution_count": 187,
   "metadata": {},
   "outputs": [
    {
     "data": {
      "text/plain": [
       "{'userid': 'juan.stuecker@rwth-aachen.de',\n",
       " 'item': '1',\n",
       " 'valence': 1000,\n",
       " '_id': ObjectId('623dc98fd153ac6033c59a40')}"
      ]
     },
     "execution_count": 187,
     "metadata": {},
     "output_type": "execute_result"
    }
   ],
   "source": [
    "for i in u1: \n",
    "    update_again.append({i})\n",
    "    \n"
   ]
  },
  {
   "cell_type": "code",
   "execution_count": 76,
   "metadata": {},
   "outputs": [],
   "source": [
    "MONGO_HOST = \"localhost\"#\"137.226.232.75\" #\"localhost\"\n",
    "MONGO_PORT = 27017#32112 # 27017"
   ]
  },
  {
   "cell_type": "code",
   "execution_count": 77,
   "metadata": {},
   "outputs": [
    {
     "name": "stdout",
     "output_type": "stream",
     "text": [
      "Trying to connect with the database...\n",
      "Checking connection with the DB\n",
      "SUCCESS: connecting with the DB!\n"
     ]
    }
   ],
   "source": [
    "try: \n",
    "    print(\"Trying to connect with the database...\")\n",
    "    mongo = pymongo.MongoClient(\n",
    "         host=MONGO_HOST,  \n",
    "         port= MONGO_PORT, \n",
    "         serverSelectionTimeoutMS = 10000\n",
    "         )\n",
    "    print(\"Checking connection with the DB\")\n",
    "    mongo.server_info()  #triggers the exception if no connection\n",
    "    db = mongo.course\n",
    "    db_quizes = mongo.quizes\n",
    "    print(\"SUCCESS: connecting with the DB!\")\n",
    "\n",
    "except Exception as ex:    \n",
    "    print(\"ERROR: Cannot connect to the databse\") \n",
    "    print(ex)"
   ]
  },
  {
   "cell_type": "code",
   "execution_count": 80,
   "metadata": {},
   "outputs": [],
   "source": [
    "my_list = [dict]"
   ]
  },
  {
   "cell_type": "code",
   "execution_count": 106,
   "metadata": {},
   "outputs": [
    {
     "data": {
      "text/plain": [
       "([{'userid': 'juan.stuecker@rwth-aachen.de', '1': 8},\n",
       "  {'userid': 'juan.stuecker@rwth-aachen.de', '2': 5},\n",
       "  {'userid': 'luisalanger@gmail.com', '1': 10},\n",
       "  {'userid': 'luisalanger@gmail.com', '2': 9},\n",
       "  {'userid': 'juan.stuecker@rwth-aachen.de', '1': 3},\n",
       "  {'userid': 'juan.stuecker@rwth-aachen.de', '2': 3},\n",
       "  {'userid': 'danielastuckermtz@gmail.com', '1': 11},\n",
       "  {'userid': 'danielastuckermtz@gmail.com', '2': 7}],\n",
       " [{'userid': 'juan.stuecker@rwth-aachen.de', '1': 1000},\n",
       "  {'userid': 'juan.stuecker@rwth-aachen.de', '2': 5},\n",
       "  {'userid': 'luisalanger@gmail.com', '1': 10},\n",
       "  {'userid': 'luisalanger@gmail.com', '2': 9},\n",
       "  {'userid': 'juan.stuecker@rwth-aachen.de', '1': 3},\n",
       "  {'userid': 'juan.stuecker@rwth-aachen.de', '2': 3},\n",
       "  {'userid': 'danielastuckermtz@gmail.com', '1': 11},\n",
       "  {'userid': 'danielastuckermtz@gmail.com', '2': 7},\n",
       "  {'userid': 'fake@mail.com', '1': 20}])"
      ]
     },
     "execution_count": 106,
     "metadata": {},
     "output_type": "execute_result"
    }
   ],
   "source": [
    "u1, u2"
   ]
  },
  {
   "cell_type": "code",
   "execution_count": 110,
   "metadata": {},
   "outputs": [],
   "source": [
    "updated_elements = [i for i in u1 if i not in u2]\n",
    "new_elements= [i for i in u2 if i not in u1]"
   ]
  },
  {
   "cell_type": "code",
   "execution_count": 112,
   "metadata": {},
   "outputs": [
    {
     "data": {
      "text/plain": [
       "[{'userid': 'juan.stuecker@rwth-aachen.de', '1': 1000},\n",
       " {'userid': 'fake@mail.com', '1': 20}]"
      ]
     },
     "execution_count": 112,
     "metadata": {},
     "output_type": "execute_result"
    }
   ],
   "source": []
  },
  {
   "cell_type": "code",
   "execution_count": 79,
   "metadata": {},
   "outputs": [
    {
     "ename": "TypeError",
     "evalue": "update_many() missing 1 required positional argument: 'update'",
     "output_type": "error",
     "traceback": [
      "\u001b[1;31m---------------------------------------------------------------------------\u001b[0m",
      "\u001b[1;31mTypeError\u001b[0m                                 Traceback (most recent call last)",
      "\u001b[1;32m~\\AppData\\Local\\Temp\\ipykernel_2212\\1900911167.py\u001b[0m in \u001b[0;36m<module>\u001b[1;34m\u001b[0m\n\u001b[1;32m----> 1\u001b[1;33m \u001b[0mdbResponse\u001b[0m \u001b[1;33m=\u001b[0m \u001b[0mdb_quizes\u001b[0m\u001b[1;33m.\u001b[0m\u001b[0musers\u001b[0m\u001b[1;33m.\u001b[0m\u001b[0mupdate_many\u001b[0m\u001b[1;33m(\u001b[0m\u001b[0mupdate_list\u001b[0m\u001b[1;33m)\u001b[0m\u001b[1;33m\u001b[0m\u001b[1;33m\u001b[0m\u001b[0m\n\u001b[0m",
      "\u001b[1;31mTypeError\u001b[0m: update_many() missing 1 required positional argument: 'update'"
     ]
    }
   ],
   "source": [
    "dbResponse = db_quizes.users.update_many(update_list)"
   ]
  }
 ],
 "metadata": {
  "interpreter": {
   "hash": "b164b660d4be3d9ff85a1034ee65e8508056c7ad4512d1770484d6ed8c3e5073"
  },
  "kernelspec": {
   "display_name": "Python 3.7.11 ('kube')",
   "language": "python",
   "name": "python3"
  },
  "language_info": {
   "codemirror_mode": {
    "name": "ipython",
    "version": 3
   },
   "file_extension": ".py",
   "mimetype": "text/x-python",
   "name": "python",
   "nbconvert_exporter": "python",
   "pygments_lexer": "ipython3",
   "version": "3.7.11"
  },
  "orig_nbformat": 4
 },
 "nbformat": 4,
 "nbformat_minor": 2
}
