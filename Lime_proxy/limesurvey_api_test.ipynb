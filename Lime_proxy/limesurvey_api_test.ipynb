{
 "cells": [
  {
   "cell_type": "code",
   "execution_count": 1,
   "metadata": {},
   "outputs": [],
   "source": [
    "import requests\n",
    "import json\n",
    "from uuid import uuid4\n",
    "import ast\n",
    "import base64\n",
    "import numpy as np\n",
    "import pymongo"
   ]
  },
  {
   "cell_type": "code",
   "execution_count": 2,
   "metadata": {},
   "outputs": [],
   "source": [
    "\n",
    "#URL_2 = \"https://affibot.limesurvey.net/index.php/admin/remotecontrol\"\n",
    "#API_USER_2 = \"juanstuecker\"\n",
    "#API_PASSWORD_2 = \"5rqimdSdwR6E\"\n",
    "\n",
    "\n",
    "URL = \"https://limesurvey.tech4comp.dbis.rwth-aachen.de/index.php/admin/remotecontrol\"\n",
    "API_USER = \"stuecker\"\n",
    "API_PASSWORD = \"janhw3QS4Wrr\"\n",
    "# SURVEY_ID = 294243#589811# 113484\n",
    "HEADERS = {'content-type': 'application/json'}\n",
    "SURVEY_ID = 689255\n"
   ]
  },
  {
   "cell_type": "code",
   "execution_count": 4,
   "metadata": {},
   "outputs": [],
   "source": [
    "# SURVEY_IDS = {244663:\"Metabolic Integration\",375586: \"Protein Metabolism\", 733193:\"Lipolysis\", 636775:\"Glycogenolisis\", 689255:\"Glycogenisis\", 377193:\"GLycolysis\", 943331:\"Citric and Acid Cylcle\", 148633:\"ETC\"}\n",
    "# # ,733193: \"Lypolysis\",636775:\"Glycogenolysis\",689255:\"Glycogenisis\",377193: \"Glycolysis\",943331: \"Citric and Acid cycle\",148633: \"ETC\"}\n"
   ]
  },
  {
   "cell_type": "code",
   "execution_count": 5,
   "metadata": {},
   "outputs": [],
   "source": [
    "SURVEY_IDS ={377193:\"Introduction Slides\", 943331:\"Recommendation Basics\", 733193:\"Evaluation of Recommender Systems\", 148633:\"Trust-based Recommender Learning\", 636775:\"Expert Identification\", 689255:\"Time and community aware recommender learning\"}"
   ]
  },
  {
   "cell_type": "code",
   "execution_count": 6,
   "metadata": {},
   "outputs": [],
   "source": [
    "participants = [\n",
    "    {\"email\": \"luisalanger@gmail.com\", \"firstname\": \"luisa\"},\n",
    "    {\"email\": \"juan.stuecker@rwth-aachen.de\", \"firstname\": \"juan\"},\n",
    "    {\"email\": \"danielastuckermtz@gmail.com\", \"firstname\": \"dany\"}, \n",
    "    {\"email\": \"juan.stucker1@gmail.com\", \"firstname\": \"juan2\"}]\n",
    "    "
   ]
  },
  {
   "cell_type": "code",
   "execution_count": 16,
   "metadata": {},
   "outputs": [],
   "source": [
    "participants2 = [{\"email\": \"neumann@dbis.rwth-aachen.de\", \"firstname\": \"alexander\"},\n",
    "{\"email\": \"slupczynski@dbis.rwth-aachen.de\", \"firstname\":\"michal\"}]"
   ]
  },
  {
   "cell_type": "code",
   "execution_count": 19,
   "metadata": {},
   "outputs": [],
   "source": [
    "participants4 = [{\"email\": \"s6anlope@uni-bonn.de\", \"firstname\": \"Andrés\"}]"
   ]
  },
  {
   "cell_type": "code",
   "execution_count": 7,
   "metadata": {},
   "outputs": [],
   "source": [
    "def set_params(method, params):\n",
    "    data = {'method': method, 'params': params, 'id': str(uuid4())}\n",
    "    return json.dumps(data)"
   ]
  },
  {
   "cell_type": "code",
   "execution_count": 8,
   "metadata": {},
   "outputs": [],
   "source": [
    "def get_session_key():\n",
    "    params = {'username': API_USER, 'password': API_PASSWORD}\n",
    "    data = set_params('get_session_key', params)\n",
    "    print(data)\n",
    "\n",
    "    request = requests.post(URL, data=data, headers=HEADERS)\n",
    "    return request.json()['result']\n"
   ]
  },
  {
   "cell_type": "code",
   "execution_count": 9,
   "metadata": {},
   "outputs": [],
   "source": [
    "def list_participants(sessionKey, survey_id, start=0, limit=1000, unused=False,\n",
    "            attributes=False, conditions=[]):\n",
    "    params = {\"sSessionKey\": sessionKey, \"iSurveyID\": survey_id, \"iStart\":start, \"iLimit\":limit, \"bUnused\": unused,\"aAttributes\":attributes, \"aConditions\":conditions}\n",
    "    data = set_params('list_participants', params)\n",
    "    print(data)\n",
    "    request = requests.post(URL, data=data, headers=HEADERS)\n",
    "    return request.json()"
   ]
  },
  {
   "cell_type": "code",
   "execution_count": 10,
   "metadata": {},
   "outputs": [],
   "source": [
    "def list_questions(sessionKey, survey_id):\n",
    "    params = {\"sSessionKey\": sessionKey, \"iSurveyID\": survey_id}\n",
    "    data = set_params('list_questions', params)\n",
    "    print(data)\n",
    "    request = requests.post(URL, data=data, headers=HEADERS)\n",
    "    return request.json()"
   ]
  },
  {
   "cell_type": "code",
   "execution_count": 11,
   "metadata": {},
   "outputs": [],
   "source": [
    "def mail_participants(sessionKey, survey_id):\n",
    "    params = {\"sSessionKey\": sessionKey, \"iSurveyID\": survey_id}\n",
    "    data = set_params('mail_registered_participants', params)\n",
    "    print(data)\n",
    "    request = requests.post(URL, data=data, headers=HEADERS)\n",
    "    return request.json()"
   ]
  },
  {
   "cell_type": "code",
   "execution_count": 12,
   "metadata": {},
   "outputs": [],
   "source": [
    "def add_participants(sessionKey: str, surveyID: int, participants):\n",
    "    params = {\"sSessionKey\": sessionKey, \"iSurveyID\": surveyID, \"aParticipantData\": participants}\n",
    "    data = set_params('add_participants', params)\n",
    "    print(data)\n",
    "    request = requests.post(URL, data=data, headers=HEADERS)\n",
    "    return request.json()\n"
   ]
  },
  {
   "cell_type": "code",
   "execution_count": 13,
   "metadata": {},
   "outputs": [],
   "source": [
    "def extract_data(sessionKey: str, surveyID:int, documentType:str):\n",
    "    params = {\"sSessionKey\": sessionKey, \"iSurveyID\": surveyID, \"sDocumentType\": documentType}\n",
    "    data = set_params(\"export_responses\", params)\n",
    "    print(data)\n",
    "    request = requests.post(URL, data= data, headers=HEADERS)\n",
    "    return request.json()\n",
    "\n",
    "    "
   ]
  },
  {
   "cell_type": "code",
   "execution_count": 14,
   "metadata": {},
   "outputs": [],
   "source": [
    "def get_participant_properties(sessionKey:str, surveyID:int, token:str, property:int):\n",
    "    params = {\"sSessionKey\": sessionKey, \"iSurveyID\": surveyID, \"aTokenQueryProperties\": token, \"aTokenProperties\": property}\n",
    "    data = set_params(\"get_participant_properties\", params)\n",
    "    print(data)\n",
    "    request = requests.post(URL, data = data, headers = HEADERS)\n",
    "    return request.json()"
   ]
  },
  {
   "cell_type": "code",
   "execution_count": 19,
   "metadata": {},
   "outputs": [
    {
     "name": "stdout",
     "output_type": "stream",
     "text": [
      "{\"method\": \"get_session_key\", \"params\": {\"username\": \"stuecker\", \"password\": \"janhw3QS4Wrr\"}, \"id\": \"5ea5ff01-1d02-4aaf-be15-014c156b95c3\"}\n",
      "{\"method\": \"add_participants\", \"params\": {\"sSessionKey\": \"9k~RQr037dPTxm2U0LbCDpbf0OZiZ_~n\", \"iSurveyID\": 689255, \"aParticipantData\": [{\"email\": \"luisalanger@gmail.com\", \"firstname\": \"luisa\"}, {\"email\": \"juan.stuecker@rwth-aachen.de\", \"firstname\": \"juan\"}, {\"email\": \"danielastuckermtz@gmail.com\", \"firstname\": \"dany\"}, {\"email\": \"juan.stucker1@gmail.com\", \"firstname\": \"juan2\"}]}, \"id\": \"dba6f7f0-e9b3-40c8-bc9e-38530cd2535b\"}\n"
     ]
    }
   ],
   "source": [
    "response = add_participants(get_session_key(), SURVEY_ID, participants)"
   ]
  },
  {
   "cell_type": "code",
   "execution_count": 15,
   "metadata": {},
   "outputs": [],
   "source": [
    "# for i in SURVEY_IDS:\n",
    "#     response = mail_participants(get_session_key(), i)"
   ]
  },
  {
   "cell_type": "code",
   "execution_count": 16,
   "metadata": {},
   "outputs": [
    {
     "name": "stdout",
     "output_type": "stream",
     "text": [
      "{\"method\": \"get_session_key\", \"params\": {\"username\": \"stuecker\", \"password\": \"janhw3QS4Wrr\"}, \"id\": \"e7a6676c-45b9-49ca-acc2-c0b236881a96\"}\n",
      "{\"method\": \"add_participants\", \"params\": {\"sSessionKey\": \"D5ohw_fYhVDn0FDCDiJpXMdMpYT9zg42\", \"iSurveyID\": 377193, \"aParticipantData\": [{\"email\": \"luisalanger@gmail.com\", \"firstname\": \"luisa\"}, {\"email\": \"juan.stuecker@rwth-aachen.de\", \"firstname\": \"juan\"}, {\"email\": \"danielastuckermtz@gmail.com\", \"firstname\": \"dany\"}, {\"email\": \"juan.stucker1@gmail.com\", \"firstname\": \"juan2\"}]}, \"id\": \"91d245ab-e976-4353-8db0-4c85da5fbb2b\"}\n",
      "{\"method\": \"get_session_key\", \"params\": {\"username\": \"stuecker\", \"password\": \"janhw3QS4Wrr\"}, \"id\": \"4beb1c81-79cf-454c-8b17-242a5dffd630\"}\n",
      "{\"method\": \"add_participants\", \"params\": {\"sSessionKey\": \"YWT4YgQeTdmhEMRwsCRZgVXC8SGKcaLo\", \"iSurveyID\": 943331, \"aParticipantData\": [{\"email\": \"luisalanger@gmail.com\", \"firstname\": \"luisa\"}, {\"email\": \"juan.stuecker@rwth-aachen.de\", \"firstname\": \"juan\"}, {\"email\": \"danielastuckermtz@gmail.com\", \"firstname\": \"dany\"}, {\"email\": \"juan.stucker1@gmail.com\", \"firstname\": \"juan2\"}]}, \"id\": \"e4131508-6bc9-40f2-b6eb-10372dd18d3a\"}\n",
      "{\"method\": \"get_session_key\", \"params\": {\"username\": \"stuecker\", \"password\": \"janhw3QS4Wrr\"}, \"id\": \"caf491a6-29ea-4f08-9802-dca96719e33b\"}\n",
      "{\"method\": \"add_participants\", \"params\": {\"sSessionKey\": \"SQdzTqYMicyOK3ssD1R5BNYs5G3Bmlsi\", \"iSurveyID\": 733193, \"aParticipantData\": [{\"email\": \"luisalanger@gmail.com\", \"firstname\": \"luisa\"}, {\"email\": \"juan.stuecker@rwth-aachen.de\", \"firstname\": \"juan\"}, {\"email\": \"danielastuckermtz@gmail.com\", \"firstname\": \"dany\"}, {\"email\": \"juan.stucker1@gmail.com\", \"firstname\": \"juan2\"}]}, \"id\": \"0c22709f-3b99-4003-9aea-024b6dade8d4\"}\n",
      "{\"method\": \"get_session_key\", \"params\": {\"username\": \"stuecker\", \"password\": \"janhw3QS4Wrr\"}, \"id\": \"1f833fa4-6bda-4337-8e6c-9c18c30eaa87\"}\n",
      "{\"method\": \"add_participants\", \"params\": {\"sSessionKey\": \"y3Y8oN4hhJN_W35zxx7X3eJqOpNGQm9L\", \"iSurveyID\": 148633, \"aParticipantData\": [{\"email\": \"luisalanger@gmail.com\", \"firstname\": \"luisa\"}, {\"email\": \"juan.stuecker@rwth-aachen.de\", \"firstname\": \"juan\"}, {\"email\": \"danielastuckermtz@gmail.com\", \"firstname\": \"dany\"}, {\"email\": \"juan.stucker1@gmail.com\", \"firstname\": \"juan2\"}]}, \"id\": \"58fcd393-b56a-4906-b225-4b55efa92c3d\"}\n",
      "{\"method\": \"get_session_key\", \"params\": {\"username\": \"stuecker\", \"password\": \"janhw3QS4Wrr\"}, \"id\": \"1d47f1a6-5cd5-4093-8b82-876b50a14c9b\"}\n",
      "{\"method\": \"add_participants\", \"params\": {\"sSessionKey\": \"etTv_gAVvx6zVH5Kf2NuO1qvNMyKRea8\", \"iSurveyID\": 636775, \"aParticipantData\": [{\"email\": \"luisalanger@gmail.com\", \"firstname\": \"luisa\"}, {\"email\": \"juan.stuecker@rwth-aachen.de\", \"firstname\": \"juan\"}, {\"email\": \"danielastuckermtz@gmail.com\", \"firstname\": \"dany\"}, {\"email\": \"juan.stucker1@gmail.com\", \"firstname\": \"juan2\"}]}, \"id\": \"404b5a7c-fb5a-49ba-a20a-88f6a12c20ea\"}\n",
      "{\"method\": \"get_session_key\", \"params\": {\"username\": \"stuecker\", \"password\": \"janhw3QS4Wrr\"}, \"id\": \"2359435d-bfa1-424b-9492-dba30a1f41e7\"}\n",
      "{\"method\": \"add_participants\", \"params\": {\"sSessionKey\": \"leJFVCFlxarxzlcyUp3qUzDxHplCdyBr\", \"iSurveyID\": 689255, \"aParticipantData\": [{\"email\": \"luisalanger@gmail.com\", \"firstname\": \"luisa\"}, {\"email\": \"juan.stuecker@rwth-aachen.de\", \"firstname\": \"juan\"}, {\"email\": \"danielastuckermtz@gmail.com\", \"firstname\": \"dany\"}, {\"email\": \"juan.stucker1@gmail.com\", \"firstname\": \"juan2\"}]}, \"id\": \"72071260-a094-403b-952e-c56516c8d3c3\"}\n"
     ]
    }
   ],
   "source": [
    "for i in SURVEY_IDS:\n",
    "    response = add_participants(get_session_key(), i, participants)"
   ]
  },
  {
   "cell_type": "code",
   "execution_count": 78,
   "metadata": {},
   "outputs": [
    {
     "name": "stdout",
     "output_type": "stream",
     "text": [
      "{\"method\": \"get_session_key\", \"params\": {\"username\": \"stuecker\", \"password\": \"janhw3QS4Wrr\"}, \"id\": \"53a24ea9-f126-48ba-b8c7-8e834c1941eb\"}\n",
      "{\"method\": \"list_questions\", \"params\": {\"sSessionKey\": \"C8_FmLGwlyQIqMKklUdInMTCHPFwBVRX\", \"iSurveyID\": 244663}, \"id\": \"9d16d632-36a4-4db7-b39b-85439e58f880\"}\n",
      "{\"method\": \"export_responses\", \"params\": {\"sSessionKey\": \"C8_FmLGwlyQIqMKklUdInMTCHPFwBVRX\", \"iSurveyID\": 244663, \"sDocumentType\": \"json\"}, \"id\": \"287b643e-a417-4195-9bff-b7685a51166e\"}\n"
     ]
    }
   ],
   "source": [
    "session_key = get_session_key()\n",
    "questions = list_questions(session_key, SURVEY_ID)\n",
    "num_questions = int(len(questions[\"result\"])/2)\n",
    "survey_data = extract_data(sessionKey= session_key, surveyID= SURVEY_ID, documentType= \"json\")\n",
    "survey_data_decoded = base64.b64decode(survey_data[\"result\"]) \n",
    "data_decoded = json.loads(survey_data_decoded.decode(\"utf-8\"))\n"
   ]
  },
  {
   "cell_type": "code",
   "execution_count": 79,
   "metadata": {},
   "outputs": [
    {
     "data": {
      "text/plain": [
       "{'responses': [{'4': {'id': '4',\n",
       "    'submitdate': '1980-01-01 00:00:00',\n",
       "    'lastpage': '1',\n",
       "    'startlanguage': 'en',\n",
       "    'seed': '2104118557',\n",
       "    'token': 'iBGDgzhzZ9xJzEa',\n",
       "    'Q1[SQ001]': '3',\n",
       "    'Q2[SQ001]': '4',\n",
       "    'Q3[SQ001]': '3'}},\n",
       "  {'5': {'id': '5',\n",
       "    'submitdate': '1980-01-01 00:00:00',\n",
       "    'lastpage': '1',\n",
       "    'startlanguage': 'en',\n",
       "    'seed': '309039866',\n",
       "    'token': 'EPHLrzzWtjzwhkY',\n",
       "    'Q1[SQ001]': '4',\n",
       "    'Q2[SQ001]': '3',\n",
       "    'Q3[SQ001]': '3'}},\n",
       "  {'6': {'id': '6',\n",
       "    'submitdate': None,\n",
       "    'lastpage': None,\n",
       "    'startlanguage': 'en',\n",
       "    'seed': '291973479',\n",
       "    'token': 'EPHLrzzWtjzwhkY',\n",
       "    'Q1[SQ001]': None,\n",
       "    'Q2[SQ001]': None,\n",
       "    'Q3[SQ001]': None}}]}"
      ]
     },
     "execution_count": 79,
     "metadata": {},
     "output_type": "execute_result"
    }
   ],
   "source": [
    "data_decoded"
   ]
  },
  {
   "cell_type": "code",
   "execution_count": 80,
   "metadata": {},
   "outputs": [],
   "source": [
    "responses_dict = {}\n",
    "for i in data_decoded[\"responses\"]:\n",
    "    for j in i: \n",
    "        #token of each response\n",
    "        token = i[j][\"token\"]\n",
    "        responses_dict[token] = []\n",
    "        for k in range(num_questions):\n",
    "            responses_dict[token].append([\"Q\"+str(k+1)+\"[SQ001]\",i[j][\"Q\"+str(k+1)+\"[SQ001]\"]])\n",
    "            \n",
    "\n",
    "        "
   ]
  },
  {
   "cell_type": "code",
   "execution_count": 81,
   "metadata": {},
   "outputs": [
    {
     "data": {
      "text/plain": [
       "{'iBGDgzhzZ9xJzEa': [['Q1[SQ001]', '3'],\n",
       "  ['Q2[SQ001]', '4'],\n",
       "  ['Q3[SQ001]', '3']],\n",
       " 'EPHLrzzWtjzwhkY': [['Q1[SQ001]', None],\n",
       "  ['Q2[SQ001]', None],\n",
       "  ['Q3[SQ001]', None]]}"
      ]
     },
     "execution_count": 81,
     "metadata": {},
     "output_type": "execute_result"
    }
   ],
   "source": [
    "responses_dict"
   ]
  },
  {
   "cell_type": "code",
   "execution_count": 82,
   "metadata": {},
   "outputs": [
    {
     "name": "stdout",
     "output_type": "stream",
     "text": [
      "[['iBGDgzhzZ9xJzEa', 'Q1[SQ001]', '3'], ['iBGDgzhzZ9xJzEa', 'Q2[SQ001]', '4'], ['iBGDgzhzZ9xJzEa', 'Q3[SQ001]', '3']]\n",
      "[['iBGDgzhzZ9xJzEa', 'Q1[SQ001]', '3'], ['iBGDgzhzZ9xJzEa', 'Q2[SQ001]', '4'], ['iBGDgzhzZ9xJzEa', 'Q3[SQ001]', '3'], ['EPHLrzzWtjzwhkY', 'Q1[SQ001]', '4'], ['EPHLrzzWtjzwhkY', 'Q2[SQ001]', '3'], ['EPHLrzzWtjzwhkY', 'Q3[SQ001]', '3']]\n",
      "[['iBGDgzhzZ9xJzEa', 'Q1[SQ001]', '3'], ['iBGDgzhzZ9xJzEa', 'Q2[SQ001]', '4'], ['iBGDgzhzZ9xJzEa', 'Q3[SQ001]', '3'], ['EPHLrzzWtjzwhkY', 'Q1[SQ001]', '4'], ['EPHLrzzWtjzwhkY', 'Q2[SQ001]', '3'], ['EPHLrzzWtjzwhkY', 'Q3[SQ001]', '3'], ['EPHLrzzWtjzwhkY', 'Q1[SQ001]', None], ['EPHLrzzWtjzwhkY', 'Q2[SQ001]', None], ['EPHLrzzWtjzwhkY', 'Q3[SQ001]', None]]\n"
     ]
    }
   ],
   "source": [
    "ls = []\n",
    "for i in data_decoded[\"responses\"]:\n",
    "    for j in i:\n",
    "        token = i[j][\"token\"] \n",
    "        for k in range(num_questions):\n",
    "            ls.append([token, \"Q\"+str(k+1)+\"[SQ001]\",i[j][\"Q\"+str(k+1)+\"[SQ001]\"]])\n",
    "            #print(json_data[\"responses\"][i][str(i+1)][\"Q\"+str(j+1)+\"[SQ001]\"])\n",
    "    print(ls)"
   ]
  },
  {
   "cell_type": "code",
   "execution_count": 69,
   "metadata": {},
   "outputs": [
    {
     "data": {
      "text/plain": [
       "[['iBGDgzhzZ9xJzEa', 'Q1[SQ001]', '3'],\n",
       " ['iBGDgzhzZ9xJzEa', 'Q2[SQ001]', '4'],\n",
       " ['iBGDgzhzZ9xJzEa', 'Q3[SQ001]', '3']]"
      ]
     },
     "execution_count": 69,
     "metadata": {},
     "output_type": "execute_result"
    }
   ],
   "source": [
    "ls"
   ]
  },
  {
   "cell_type": "code",
   "execution_count": 51,
   "metadata": {},
   "outputs": [
    {
     "data": {
      "text/plain": [
       "{'responses': [{'4': {'id': '4',\n",
       "    'submitdate': '1980-01-01 00:00:00',\n",
       "    'lastpage': '1',\n",
       "    'startlanguage': 'en',\n",
       "    'seed': '2104118557',\n",
       "    'token': 'iBGDgzhzZ9xJzEa',\n",
       "    'Q1[SQ001]': '3',\n",
       "    'Q2[SQ001]': '4',\n",
       "    'Q3[SQ001]': '3'}}]}"
      ]
     },
     "execution_count": 51,
     "metadata": {},
     "output_type": "execute_result"
    }
   ],
   "source": [
    "data_decoded"
   ]
  },
  {
   "cell_type": "code",
   "execution_count": 13,
   "metadata": {},
   "outputs": [],
   "source": [
    "def get_participants_token(survey_id):\n",
    "    participants = list_participants(get_session_key(), survey_id)\n",
    "    user_token = {}\n",
    "    for i in participants[\"result\"]:\n",
    "        user_token[i[\"token\"]] = i[\"participant_info\"][\"email\"]\n",
    "    return user_token"
   ]
  },
  {
   "cell_type": "code",
   "execution_count": 155,
   "metadata": {},
   "outputs": [],
   "source": [
    "# def get_survey_coeffs(token:str, surveyid:int):\n",
    "#     # get the coeffs specifically for the user?\n",
    "#     # or should I update the whole course every time? \n",
    "#     survey_data = extract_data(sessionKey= session_key, surveyID= surveyid, documentType= \"json\")\n",
    "#     survey_data_decoded = base64.b64decode(survey_data[\"result\"])\n",
    "#     json_data = json.loads(survey_data_decoded.decode(\"utf-8\"))\n",
    "#     for i in (json_data[\"responses\"]):\n",
    "#         for j in i:\n",
    "#             print(j)\n",
    "#             if i[j][\"token\"] == token:\n",
    "#                  for k in range(num_questions):\n",
    "#                      print(j[\"Q\"+str(j+1)+\"[SQ001]\"])"
   ]
  },
  {
   "cell_type": "code",
   "execution_count": 14,
   "metadata": {},
   "outputs": [],
   "source": [
    "num_questions = 3"
   ]
  },
  {
   "cell_type": "code",
   "execution_count": 15,
   "metadata": {},
   "outputs": [],
   "source": [
    "def get_survey_coeffs2(surveyid:int):\n",
    "\n",
    "    try:\n",
    "        survey_data = extract_data(sessionKey= get_session_key(), surveyID= surveyid, documentType= \"json\")\n",
    "        survey_data_decoded = base64.b64decode(survey_data[\"result\"])\n",
    "        json_data = json.loads(survey_data_decoded.decode(\"utf-8\"))\n",
    "        responses_dict = {}\n",
    "        for i in json_data[\"responses\"]:\n",
    "            for j in i: \n",
    "                #token of each response\n",
    "                token = i[j][\"token\"]\n",
    "                responses_dict[token] = []\n",
    "                for k in range(num_questions):\n",
    "                    responses_dict[token].append([\"Q\"+str(k+1)+\"[SQ001]\",i[j][\"Q\"+str(k+1)+\"[SQ001]\"]])\n",
    "                    \n",
    "    \n",
    "                    \n",
    "        return responses_dict\n",
    "    except Exception as ex:\n",
    "        print(ex)\n"
   ]
  },
  {
   "cell_type": "code",
   "execution_count": 20,
   "metadata": {},
   "outputs": [
    {
     "name": "stdout",
     "output_type": "stream",
     "text": [
      "{\"method\": \"get_session_key\", \"params\": {\"username\": \"stuecker\", \"password\": \"janhw3QS4Wrr\"}, \"id\": \"ee52e1ed-75eb-49e9-95e7-cfa75653eca9\"}\n",
      "{\"method\": \"export_responses\", \"params\": {\"sSessionKey\": \"trTkCL6WiTaWf9_AB_2nCbdnBd6Do~BN\", \"iSurveyID\": 689255, \"sDocumentType\": \"json\"}, \"id\": \"b6988855-9448-4aca-98cf-e79466f44769\"}\n"
     ]
    }
   ],
   "source": [
    "dict = get_survey_coeffs2(SURVEY_ID)"
   ]
  },
  {
   "cell_type": "code",
   "execution_count": 21,
   "metadata": {},
   "outputs": [
    {
     "data": {
      "text/plain": [
       "{'R0UR3MeBgjwuYR1': [['Q1[SQ001]', '3'],\n",
       "  ['Q2[SQ001]', '1'],\n",
       "  ['Q3[SQ001]', '1']]}"
      ]
     },
     "execution_count": 21,
     "metadata": {},
     "output_type": "execute_result"
    }
   ],
   "source": [
    "dict"
   ]
  },
  {
   "cell_type": "code",
   "execution_count": 22,
   "metadata": {},
   "outputs": [],
   "source": [
    "def get_item_valence(dict, item_name):\n",
    "    # i1= [0,1,2]\n",
    "    # i2 = [3,4,5]\n",
    "    student_item = {}\n",
    "    if dict:\n",
    "        for i in dict:\n",
    "            valence = []\n",
    "            student_item[i] = {}\n",
    "            for j in range(num_questions):\n",
    "                valence.append(0)\n",
    "                # if j in i1:\n",
    "                if dict[i][j][1] != '' and dict[i][j][1] :\n",
    "                    valence[0] += int(dict[i][j][1])\n",
    "                    # student_item[i][\"Item 1\"] = valence\n",
    "                # elif j in i2:\n",
    "                #     if dict[i][j][1] != '' :\n",
    "                #         valence[1] += int(dict[i][j][1])\n",
    "            \n",
    "            student_item[i][item_name] = valence[0]\n",
    "            # student_item[i][\"2\"] = valence[1]\n",
    "        return student_item\n"
   ]
  },
  {
   "cell_type": "code",
   "execution_count": 26,
   "metadata": {},
   "outputs": [
    {
     "data": {
      "text/plain": [
       "{'R0UR3MeBgjwuYR1': {'Glycosis': 5}}"
      ]
     },
     "execution_count": 26,
     "metadata": {},
     "output_type": "execute_result"
    }
   ],
   "source": [
    "item = get_item_valence(dict, \"Glycosis\")\n",
    "item"
   ]
  },
  {
   "cell_type": "code",
   "execution_count": 27,
   "metadata": {},
   "outputs": [
    {
     "name": "stdout",
     "output_type": "stream",
     "text": [
      "{\"method\": \"get_session_key\", \"params\": {\"username\": \"stuecker\", \"password\": \"janhw3QS4Wrr\"}, \"id\": \"913961db-3fd8-4f76-8626-260796c89925\"}\n",
      "{\"method\": \"list_participants\", \"params\": {\"sSessionKey\": \"33CjNABiRZKUOD4LDs3f0kbqvb3TaLPL\", \"iSurveyID\": 689255, \"iStart\": 0, \"iLimit\": 1000, \"bUnused\": false, \"aAttributes\": false, \"aConditions\": []}, \"id\": \"042be9de-0574-418e-b7c7-9d47c0ba5be9\"}\n"
     ]
    }
   ],
   "source": [
    "participants = get_participants_token(SURVEY_ID)"
   ]
  },
  {
   "cell_type": "code",
   "execution_count": 28,
   "metadata": {},
   "outputs": [
    {
     "data": {
      "text/plain": [
       "4"
      ]
     },
     "execution_count": 28,
     "metadata": {},
     "output_type": "execute_result"
    }
   ],
   "source": [
    "len(participants)"
   ]
  },
  {
   "cell_type": "code",
   "execution_count": 29,
   "metadata": {},
   "outputs": [],
   "source": [
    "def get_keys_from_value(d, val):\n",
    "    return [k for k, v in d.items() if v == val]"
   ]
  },
  {
   "cell_type": "code",
   "execution_count": 30,
   "metadata": {},
   "outputs": [
    {
     "data": {
      "text/plain": [
       "['R0UR3MeBgjwuYR1']"
      ]
     },
     "execution_count": 30,
     "metadata": {},
     "output_type": "execute_result"
    }
   ],
   "source": [
    "get_keys_from_value(participants, \"juan.stuecker@rwth-aachen.de\")\n"
   ]
  },
  {
   "cell_type": "code",
   "execution_count": 29,
   "metadata": {},
   "outputs": [
    {
     "name": "stdout",
     "output_type": "stream",
     "text": [
      "244663\n",
      "375586\n",
      "733193\n",
      "636775\n",
      "689255\n",
      "377193\n",
      "943331\n",
      "148633\n"
     ]
    }
   ],
   "source": [
    "for i in SURVEY_IDS: \n",
    "    print(i)"
   ]
  },
  {
   "cell_type": "code",
   "execution_count": 31,
   "metadata": {},
   "outputs": [
    {
     "name": "stdout",
     "output_type": "stream",
     "text": [
      "{\"method\": \"get_session_key\", \"params\": {\"username\": \"stuecker\", \"password\": \"janhw3QS4Wrr\"}, \"id\": \"cb23d612-46d7-4daf-bd6c-ceaf033320fb\"}\n",
      "{\"method\": \"export_responses\", \"params\": {\"sSessionKey\": \"dhRXWrngc7nlM6dIJAyddQdSqA7gd8Ej\", \"iSurveyID\": 244663, \"sDocumentType\": \"json\"}, \"id\": \"e5cbf2dd-2e55-4bff-83ad-cc4c28a24002\"}\n",
      "{\"method\": \"get_session_key\", \"params\": {\"username\": \"stuecker\", \"password\": \"janhw3QS4Wrr\"}, \"id\": \"05b16f24-1a26-4c51-bfd4-ef2d1e213b60\"}\n",
      "{\"method\": \"list_participants\", \"params\": {\"sSessionKey\": \"3VpwpQxdWE6lfPpAy0rWI1UZwlBsZiYp\", \"iSurveyID\": 244663, \"iStart\": 0, \"iLimit\": 1000, \"bUnused\": false, \"aAttributes\": false, \"aConditions\": []}, \"id\": \"0b31c057-caa6-4323-8edc-e730a8590688\"}\n",
      "{\"method\": \"get_session_key\", \"params\": {\"username\": \"stuecker\", \"password\": \"janhw3QS4Wrr\"}, \"id\": \"81a6520d-64e5-40af-abe2-587143788ff4\"}\n",
      "{\"method\": \"export_responses\", \"params\": {\"sSessionKey\": \"Z966K8whSb9VrLVkZEIPWbgxrDED28O7\", \"iSurveyID\": 375586, \"sDocumentType\": \"json\"}, \"id\": \"f16660f3-7b8e-4f69-8486-1a9e1dd3825d\"}\n",
      "{\"method\": \"get_session_key\", \"params\": {\"username\": \"stuecker\", \"password\": \"janhw3QS4Wrr\"}, \"id\": \"31b0c26b-9c66-473e-8895-0073cf661321\"}\n",
      "{\"method\": \"list_participants\", \"params\": {\"sSessionKey\": \"BiTmkW2uV_dN2T_8rgJX3ScRD6Jva5V~\", \"iSurveyID\": 375586, \"iStart\": 0, \"iLimit\": 1000, \"bUnused\": false, \"aAttributes\": false, \"aConditions\": []}, \"id\": \"1316f699-add0-49e3-896e-ac1efb364b7e\"}\n",
      "{\"method\": \"get_session_key\", \"params\": {\"username\": \"stuecker\", \"password\": \"janhw3QS4Wrr\"}, \"id\": \"85c814ae-5921-46d9-94fc-439280d66b91\"}\n",
      "{\"method\": \"export_responses\", \"params\": {\"sSessionKey\": \"EmppzN~DOWuKk08SrZjOy~qceLVmE7P9\", \"iSurveyID\": 733193, \"sDocumentType\": \"json\"}, \"id\": \"31239bdd-3075-4342-bfd1-1a92af5a4e4b\"}\n",
      "{\"method\": \"get_session_key\", \"params\": {\"username\": \"stuecker\", \"password\": \"janhw3QS4Wrr\"}, \"id\": \"ec7b27ce-251c-40f4-bb47-0cfcb7466f8a\"}\n",
      "{\"method\": \"list_participants\", \"params\": {\"sSessionKey\": \"c7uOfrwcwoDRZZF0eOyL7JJYPuuyzFi1\", \"iSurveyID\": 733193, \"iStart\": 0, \"iLimit\": 1000, \"bUnused\": false, \"aAttributes\": false, \"aConditions\": []}, \"id\": \"7d6f579d-db65-44b6-af79-a8ed07ce2efa\"}\n",
      "{\"method\": \"get_session_key\", \"params\": {\"username\": \"stuecker\", \"password\": \"janhw3QS4Wrr\"}, \"id\": \"36bab798-b8d8-4db5-98bb-63f628f26c35\"}\n",
      "{\"method\": \"export_responses\", \"params\": {\"sSessionKey\": \"iXFU5RREIIpRv2h92qKHMH0u70w~KJ3H\", \"iSurveyID\": 636775, \"sDocumentType\": \"json\"}, \"id\": \"104b3c92-81aa-45ed-a872-36ccae7258e6\"}\n",
      "{\"method\": \"get_session_key\", \"params\": {\"username\": \"stuecker\", \"password\": \"janhw3QS4Wrr\"}, \"id\": \"7f161345-9fc8-45e6-b744-d5064bab025b\"}\n",
      "{\"method\": \"list_participants\", \"params\": {\"sSessionKey\": \"oT9cBoL87riqznNDSr2n~P6hSA~2Ka6F\", \"iSurveyID\": 636775, \"iStart\": 0, \"iLimit\": 1000, \"bUnused\": false, \"aAttributes\": false, \"aConditions\": []}, \"id\": \"41f8177e-776b-428a-889c-d03123522587\"}\n",
      "{\"method\": \"get_session_key\", \"params\": {\"username\": \"stuecker\", \"password\": \"janhw3QS4Wrr\"}, \"id\": \"267b09e9-3969-4adf-9c09-f543861effbd\"}\n",
      "{\"method\": \"export_responses\", \"params\": {\"sSessionKey\": \"nZKpYARYUiLPrpRa2rK5D72~JtnAGVsW\", \"iSurveyID\": 689255, \"sDocumentType\": \"json\"}, \"id\": \"e1076221-f996-4fce-919c-946ee44e3a1c\"}\n",
      "{\"method\": \"get_session_key\", \"params\": {\"username\": \"stuecker\", \"password\": \"janhw3QS4Wrr\"}, \"id\": \"b81d9817-be59-46ea-9132-26a3fbb4b801\"}\n",
      "{\"method\": \"list_participants\", \"params\": {\"sSessionKey\": \"YV3dzbTe8iGvpMHoHytvh6xqRULAfRUj\", \"iSurveyID\": 689255, \"iStart\": 0, \"iLimit\": 1000, \"bUnused\": false, \"aAttributes\": false, \"aConditions\": []}, \"id\": \"9c11e3e1-c02d-41d4-90d1-817b86144b6c\"}\n",
      "{\"method\": \"get_session_key\", \"params\": {\"username\": \"stuecker\", \"password\": \"janhw3QS4Wrr\"}, \"id\": \"069a43b8-0ae8-41d2-a8d2-54ad589836af\"}\n",
      "{\"method\": \"export_responses\", \"params\": {\"sSessionKey\": \"qcEaZLehavo3TIWysXbWvHfbsRnjXXrV\", \"iSurveyID\": 377193, \"sDocumentType\": \"json\"}, \"id\": \"be732712-5301-4678-8929-395b2b1afdf8\"}\n",
      "{\"method\": \"get_session_key\", \"params\": {\"username\": \"stuecker\", \"password\": \"janhw3QS4Wrr\"}, \"id\": \"8746a295-6881-4606-a52f-a7cede6848ed\"}\n",
      "{\"method\": \"list_participants\", \"params\": {\"sSessionKey\": \"cNgwn5dwcRUOPrWllcbzsuxAJQeHJmPT\", \"iSurveyID\": 377193, \"iStart\": 0, \"iLimit\": 1000, \"bUnused\": false, \"aAttributes\": false, \"aConditions\": []}, \"id\": \"97a52557-5fd6-44aa-a244-b84d7c77b0cc\"}\n",
      "{\"method\": \"get_session_key\", \"params\": {\"username\": \"stuecker\", \"password\": \"janhw3QS4Wrr\"}, \"id\": \"265af0f9-685f-46cb-a2b2-2eff6b49c32f\"}\n",
      "{\"method\": \"export_responses\", \"params\": {\"sSessionKey\": \"du8D8F8FAkHppsqOz1UXlD41aIRa5Grv\", \"iSurveyID\": 943331, \"sDocumentType\": \"json\"}, \"id\": \"c82707aa-50c2-4327-a46e-cca7581e5d13\"}\n",
      "{\"method\": \"get_session_key\", \"params\": {\"username\": \"stuecker\", \"password\": \"janhw3QS4Wrr\"}, \"id\": \"926adcc7-e8e3-4592-906d-e9512171e4d2\"}\n",
      "{\"method\": \"list_participants\", \"params\": {\"sSessionKey\": \"0CjO_vZZGu9WW7AFNhVtxIf96sTI5Mc_\", \"iSurveyID\": 943331, \"iStart\": 0, \"iLimit\": 1000, \"bUnused\": false, \"aAttributes\": false, \"aConditions\": []}, \"id\": \"97551ae2-7909-4722-b8ef-74619a0bdd9e\"}\n",
      "{\"method\": \"get_session_key\", \"params\": {\"username\": \"stuecker\", \"password\": \"janhw3QS4Wrr\"}, \"id\": \"df646643-a5fc-40d1-92c8-86c4c0225cb5\"}\n",
      "{\"method\": \"export_responses\", \"params\": {\"sSessionKey\": \"UJ6BPaZ7D6BdZTB0edBvRTigLYXW75Dy\", \"iSurveyID\": 148633, \"sDocumentType\": \"json\"}, \"id\": \"f07a1555-250c-477c-9810-84c87508e6bd\"}\n",
      "{\"method\": \"get_session_key\", \"params\": {\"username\": \"stuecker\", \"password\": \"janhw3QS4Wrr\"}, \"id\": \"cd2c337c-8f49-43f9-9a27-04a15b06f2e2\"}\n",
      "{\"method\": \"list_participants\", \"params\": {\"sSessionKey\": \"jGkRlLFsFP5JH3dnZ0mjSdZO5wy8Eeat\", \"iSurveyID\": 148633, \"iStart\": 0, \"iLimit\": 1000, \"bUnused\": false, \"aAttributes\": false, \"aConditions\": []}, \"id\": \"7a86b0a7-1071-4e4c-a92c-540ca205a052\"}\n"
     ]
    }
   ],
   "source": [
    "update_list = []\n",
    "\n",
    "for i in SURVEY_IDS: \n",
    "    dict =get_survey_coeffs2(i)\n",
    "    participants_tokens = get_participants_token(i)\n",
    "    items = get_item_valence(dict, SURVEY_IDS[i])\n",
    "    if items:\n",
    "        for j in items:\n",
    "            if j in participants_tokens:\n",
    "                for k in items[j]:\n",
    "                    update_list.append({\"userid\":participants_tokens[j],\"item\":str(k), \"valence\":items[j][k] })\n"
   ]
  },
  {
   "cell_type": "code",
   "execution_count": 32,
   "metadata": {},
   "outputs": [
    {
     "data": {
      "text/plain": [
       "[{'userid': 'juan.stuecker@rwth-aachen.de',\n",
       "  'item': 'Metabolic Integration',\n",
       "  'valence': 8},\n",
       " {'userid': 'juan.stuecker@rwth-aachen.de',\n",
       "  'item': 'Protein Metabolism',\n",
       "  'valence': 10},\n",
       " {'userid': 'juan.stuecker@rwth-aachen.de', 'item': 'Lipolysis', 'valence': 8},\n",
       " {'userid': 'juan.stuecker@rwth-aachen.de',\n",
       "  'item': 'Glycogenolisis',\n",
       "  'valence': 9},\n",
       " {'userid': 'juan.stuecker@rwth-aachen.de',\n",
       "  'item': 'Glycogenisis',\n",
       "  'valence': 5},\n",
       " {'userid': 'juan.stuecker@rwth-aachen.de',\n",
       "  'item': 'GLycolysis',\n",
       "  'valence': 7},\n",
       " {'userid': 'juan.stuecker@rwth-aachen.de',\n",
       "  'item': 'Citric and Acid Cylcle',\n",
       "  'valence': 6},\n",
       " {'userid': 'juan.stuecker@rwth-aachen.de', 'item': 'ETC', 'valence': 4}]"
      ]
     },
     "execution_count": 32,
     "metadata": {},
     "output_type": "execute_result"
    }
   ],
   "source": [
    "update_list"
   ]
  },
  {
   "cell_type": "code",
   "execution_count": 44,
   "metadata": {},
   "outputs": [
    {
     "name": "stdout",
     "output_type": "stream",
     "text": [
      "{\"method\": \"get_session_key\", \"params\": {\"username\": \"stuecker\", \"password\": \"janhw3QS4Wrr\"}, \"id\": \"d197dd0a-2ab2-44ae-be93-38fc12bb52ad\"}\n",
      "{\"method\": \"export_responses\", \"params\": {\"sSessionKey\": \"0xAH~9YGm3RYDuFeYYVvr0od_A0JYVD~\", \"iSurveyID\": 148633, \"sDocumentType\": \"json\"}, \"id\": \"ba1121ab-ada2-4d26-b8c3-ff02c73aeb01\"}\n",
      "name 'num_questions' is not defined\n"
     ]
    }
   ],
   "source": [
    "get_survey_coeffs2(148633)"
   ]
  },
  {
   "cell_type": "code",
   "execution_count": 107,
   "metadata": {},
   "outputs": [
    {
     "name": "stdout",
     "output_type": "stream",
     "text": [
      "{\"method\": \"export_responses\", \"params\": {\"sSessionKey\": \"C8_FmLGwlyQIqMKklUdInMTCHPFwBVRX\", \"iSurveyID\": 244663, \"sDocumentType\": \"json\"}, \"id\": \"2e482de9-dac5-43ed-badf-115a4917eea2\"}\n",
      "{\"method\": \"get_session_key\", \"params\": {\"username\": \"stuecker\", \"password\": \"janhw3QS4Wrr\"}, \"id\": \"b16eef1e-6929-41aa-b32f-82eadbaa48af\"}\n",
      "{\"method\": \"list_participants\", \"params\": {\"sSessionKey\": \"yQNOZKShHFZCAncV134azACy5AlZBUlI\", \"iSurveyID\": 244663, \"iStart\": 0, \"iLimit\": 1000, \"bUnused\": false, \"aAttributes\": false, \"aConditions\": []}, \"id\": \"1295e2da-22ec-4ffe-a474-300bdbb6d6f0\"}\n"
     ]
    }
   ],
   "source": [
    "#this phew lines do the whole trick! \n",
    "dict =get_survey_coeffs2(SURVEY_ID)\n",
    "participants_tokens = get_participants_token(SURVEY_ID)\n",
    "items = get_item_valence(dict, \"Glycosis\")\n",
    "update_list = []\n",
    "for i in items:\n",
    "    if i in participants_tokens:\n",
    "        for j in items[i]:\n",
    "            update_list.append({\"userid\":participants_tokens[i],\"item\":str(j), \"valence\":items[i][j] })"
   ]
  },
  {
   "cell_type": "code",
   "execution_count": 108,
   "metadata": {},
   "outputs": [
    {
     "data": {
      "text/plain": [
       "[{'userid': 'juan.stuecker@rwth-aachen.de', 'item': 'Glycosis', 'valence': 10},\n",
       " {'userid': 'danielastuckermtz@gmail.com', 'item': 'Glycosis', 'valence': 0}]"
      ]
     },
     "execution_count": 108,
     "metadata": {},
     "output_type": "execute_result"
    }
   ],
   "source": [
    "update_list"
   ]
  },
  {
   "cell_type": "code",
   "execution_count": 74,
   "metadata": {},
   "outputs": [],
   "source": [
    "items = get_item_valence(dict)\n",
    "update_list = []\n",
    "for i in items:\n",
    "    if i in participants_tokens:\n",
    "        for j in items[i]:\n",
    "            update_list.append({\"userid\":participants_tokens[i],str(j):items[i][j] })"
   ]
  },
  {
   "cell_type": "code",
   "execution_count": 87,
   "metadata": {},
   "outputs": [],
   "source": [
    "import copy"
   ]
  },
  {
   "cell_type": "code",
   "execution_count": 88,
   "metadata": {},
   "outputs": [],
   "source": [
    "u1 = copy.deepcopy(update_list)\n",
    "u2 = update_list"
   ]
  },
  {
   "cell_type": "code",
   "execution_count": 188,
   "metadata": {},
   "outputs": [],
   "source": [
    "update_list[0][\"valence\"] = 2000"
   ]
  },
  {
   "cell_type": "code",
   "execution_count": 190,
   "metadata": {},
   "outputs": [
    {
     "data": {
      "text/plain": [
       "{'userid': 'juan.stuecker@rwth-aachen.de',\n",
       " 'item': '1',\n",
       " 'valence': 1000,\n",
       " '_id': ObjectId('623dc98fd153ac6033c59a40')}"
      ]
     },
     "execution_count": 190,
     "metadata": {},
     "output_type": "execute_result"
    }
   ],
   "source": [
    "u1[0]"
   ]
  },
  {
   "cell_type": "code",
   "execution_count": null,
   "metadata": {},
   "outputs": [],
   "source": [
    "update_again = {}"
   ]
  },
  {
   "cell_type": "code",
   "execution_count": 187,
   "metadata": {},
   "outputs": [
    {
     "data": {
      "text/plain": [
       "{'userid': 'juan.stuecker@rwth-aachen.de',\n",
       " 'item': '1',\n",
       " 'valence': 1000,\n",
       " '_id': ObjectId('623dc98fd153ac6033c59a40')}"
      ]
     },
     "execution_count": 187,
     "metadata": {},
     "output_type": "execute_result"
    }
   ],
   "source": [
    "for i in u1: \n",
    "    update_again.append({i})\n",
    "    \n"
   ]
  },
  {
   "cell_type": "code",
   "execution_count": 76,
   "metadata": {},
   "outputs": [],
   "source": [
    "MONGO_HOST = \"localhost\"#\"137.226.232.75\" #\"localhost\"\n",
    "MONGO_PORT = 27017#32112 # 27017"
   ]
  },
  {
   "cell_type": "code",
   "execution_count": 77,
   "metadata": {},
   "outputs": [
    {
     "name": "stdout",
     "output_type": "stream",
     "text": [
      "Trying to connect with the database...\n",
      "Checking connection with the DB\n",
      "SUCCESS: connecting with the DB!\n"
     ]
    }
   ],
   "source": [
    "try: \n",
    "    print(\"Trying to connect with the database...\")\n",
    "    mongo = pymongo.MongoClient(\n",
    "         host=MONGO_HOST,  \n",
    "         port= MONGO_PORT, \n",
    "         serverSelectionTimeoutMS = 10000\n",
    "         )\n",
    "    print(\"Checking connection with the DB\")\n",
    "    mongo.server_info()  #triggers the exception if no connection\n",
    "    db = mongo.course\n",
    "    db_quizes = mongo.quizes\n",
    "    print(\"SUCCESS: connecting with the DB!\")\n",
    "\n",
    "except Exception as ex:    \n",
    "    print(\"ERROR: Cannot connect to the databse\") \n",
    "    print(ex)"
   ]
  },
  {
   "cell_type": "code",
   "execution_count": 80,
   "metadata": {},
   "outputs": [],
   "source": [
    "my_list = [dict]"
   ]
  },
  {
   "cell_type": "code",
   "execution_count": 106,
   "metadata": {},
   "outputs": [
    {
     "data": {
      "text/plain": [
       "([{'userid': 'juan.stuecker@rwth-aachen.de', '1': 8},\n",
       "  {'userid': 'juan.stuecker@rwth-aachen.de', '2': 5},\n",
       "  {'userid': 'luisalanger@gmail.com', '1': 10},\n",
       "  {'userid': 'luisalanger@gmail.com', '2': 9},\n",
       "  {'userid': 'juan.stuecker@rwth-aachen.de', '1': 3},\n",
       "  {'userid': 'juan.stuecker@rwth-aachen.de', '2': 3},\n",
       "  {'userid': 'danielastuckermtz@gmail.com', '1': 11},\n",
       "  {'userid': 'danielastuckermtz@gmail.com', '2': 7}],\n",
       " [{'userid': 'juan.stuecker@rwth-aachen.de', '1': 1000},\n",
       "  {'userid': 'juan.stuecker@rwth-aachen.de', '2': 5},\n",
       "  {'userid': 'luisalanger@gmail.com', '1': 10},\n",
       "  {'userid': 'luisalanger@gmail.com', '2': 9},\n",
       "  {'userid': 'juan.stuecker@rwth-aachen.de', '1': 3},\n",
       "  {'userid': 'juan.stuecker@rwth-aachen.de', '2': 3},\n",
       "  {'userid': 'danielastuckermtz@gmail.com', '1': 11},\n",
       "  {'userid': 'danielastuckermtz@gmail.com', '2': 7},\n",
       "  {'userid': 'fake@mail.com', '1': 20}])"
      ]
     },
     "execution_count": 106,
     "metadata": {},
     "output_type": "execute_result"
    }
   ],
   "source": [
    "u1, u2"
   ]
  },
  {
   "cell_type": "code",
   "execution_count": 110,
   "metadata": {},
   "outputs": [],
   "source": [
    "updated_elements = [i for i in u1 if i not in u2]\n",
    "new_elements= [i for i in u2 if i not in u1]"
   ]
  },
  {
   "cell_type": "code",
   "execution_count": 112,
   "metadata": {},
   "outputs": [
    {
     "data": {
      "text/plain": [
       "[{'userid': 'juan.stuecker@rwth-aachen.de', '1': 1000},\n",
       " {'userid': 'fake@mail.com', '1': 20}]"
      ]
     },
     "execution_count": 112,
     "metadata": {},
     "output_type": "execute_result"
    }
   ],
   "source": []
  },
  {
   "cell_type": "code",
   "execution_count": 79,
   "metadata": {},
   "outputs": [
    {
     "ename": "TypeError",
     "evalue": "update_many() missing 1 required positional argument: 'update'",
     "output_type": "error",
     "traceback": [
      "\u001b[1;31m---------------------------------------------------------------------------\u001b[0m",
      "\u001b[1;31mTypeError\u001b[0m                                 Traceback (most recent call last)",
      "\u001b[1;32m~\\AppData\\Local\\Temp\\ipykernel_2212\\1900911167.py\u001b[0m in \u001b[0;36m<module>\u001b[1;34m\u001b[0m\n\u001b[1;32m----> 1\u001b[1;33m \u001b[0mdbResponse\u001b[0m \u001b[1;33m=\u001b[0m \u001b[0mdb_quizes\u001b[0m\u001b[1;33m.\u001b[0m\u001b[0musers\u001b[0m\u001b[1;33m.\u001b[0m\u001b[0mupdate_many\u001b[0m\u001b[1;33m(\u001b[0m\u001b[0mupdate_list\u001b[0m\u001b[1;33m)\u001b[0m\u001b[1;33m\u001b[0m\u001b[1;33m\u001b[0m\u001b[0m\n\u001b[0m",
      "\u001b[1;31mTypeError\u001b[0m: update_many() missing 1 required positional argument: 'update'"
     ]
    }
   ],
   "source": [
    "dbResponse = db_quizes.users.update_many(update_list)"
   ]
  }
 ],
 "metadata": {
  "interpreter": {
   "hash": "b164b660d4be3d9ff85a1034ee65e8508056c7ad4512d1770484d6ed8c3e5073"
  },
  "kernelspec": {
   "display_name": "Python 3.7.11 ('kube')",
   "language": "python",
   "name": "python3"
  },
  "language_info": {
   "codemirror_mode": {
    "name": "ipython",
    "version": 3
   },
   "file_extension": ".py",
   "mimetype": "text/x-python",
   "name": "python",
   "nbconvert_exporter": "python",
   "pygments_lexer": "ipython3",
   "version": "3.7.11"
  },
  "orig_nbformat": 4
 },
 "nbformat": 4,
 "nbformat_minor": 2
}
